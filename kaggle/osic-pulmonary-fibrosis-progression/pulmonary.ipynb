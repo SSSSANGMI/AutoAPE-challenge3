{
 "cells": [
  {
   "cell_type": "code",
   "execution_count": 1,
   "id": "6f023833",
   "metadata": {
    "_cell_guid": "b1076dfc-b9ad-4769-8c92-a6c4dae69d19",
    "_uuid": "8f2839f25d086af736a60e9eeb907d3b93b6e0e5",
    "execution": {
     "iopub.execute_input": "2022-11-11T08:12:31.119352Z",
     "iopub.status.busy": "2022-11-11T08:12:31.118627Z",
     "iopub.status.idle": "2022-11-11T08:12:38.732594Z",
     "shell.execute_reply": "2022-11-11T08:12:38.731597Z"
    },
    "papermill": {
     "duration": 7.640682,
     "end_time": "2022-11-11T08:12:38.735191",
     "exception": false,
     "start_time": "2022-11-11T08:12:31.094509",
     "status": "completed"
    },
    "tags": []
   },
   "outputs": [],
   "source": [
    "import sys\n",
    "\n",
    "# !pip install --upgrade pip\n",
    "\n",
    "# !pip install ../input/kerasapplications/keras-team-keras-applications-3b180cb -f ./ --no-index\n",
    "# !pip install ../input/efficientnet/efficientnet-1.1.0/ -f ./ --no-index\n",
    "sys.path.append('../input/kerasapplications/keras-team-keras-applications-3b180cb')\n",
    "sys.path.append('../input/efficientnet/efficientnet-1.1.0')\n",
    "\n",
    "import efficientnet.tfkeras as efn"
   ]
  },
  {
   "cell_type": "code",
   "execution_count": null,
   "id": "4281abc3",
   "metadata": {
    "papermill": {
     "duration": 0.012231,
     "end_time": "2022-11-11T08:12:38.758132",
     "exception": false,
     "start_time": "2022-11-11T08:12:38.745901",
     "status": "completed"
    },
    "tags": []
   },
   "outputs": [],
   "source": []
  },
  {
   "cell_type": "code",
   "execution_count": 2,
   "id": "34e50d5a",
   "metadata": {
    "execution": {
     "iopub.execute_input": "2022-11-11T08:12:38.781624Z",
     "iopub.status.busy": "2022-11-11T08:12:38.780376Z",
     "iopub.status.idle": "2022-11-11T08:12:39.584875Z",
     "shell.execute_reply": "2022-11-11T08:12:39.583695Z"
    },
    "papermill": {
     "duration": 0.819381,
     "end_time": "2022-11-11T08:12:39.587630",
     "exception": false,
     "start_time": "2022-11-11T08:12:38.768249",
     "status": "completed"
    },
    "tags": []
   },
   "outputs": [],
   "source": [
    "import os\n",
    "import cv2\n",
    "import pydicom\n",
    "import pandas as pd\n",
    "import numpy as np \n",
    "import tensorflow as tf \n",
    "import matplotlib.pyplot as plt \n",
    "import random\n",
    "from tqdm.notebook import tqdm \n",
    "from sklearn.model_selection import train_test_split, KFold\n",
    "from sklearn.metrics import mean_absolute_error\n",
    "from tensorflow_addons.optimizers import RectifiedAdam\n",
    "from tensorflow.keras import Model\n",
    "import tensorflow.keras.backend as K\n",
    "import tensorflow.keras.layers as L\n",
    "import tensorflow.keras.models as M\n",
    "from tensorflow.keras.optimizers import Nadam\n",
    "import seaborn as sns\n",
    "from PIL import Image\n",
    "\n",
    "def seed_everything(seed=2020):\n",
    "    random.seed(seed)\n",
    "    os.environ['PYTHONHASHSEED'] = str(seed)\n",
    "    np.random.seed(seed)\n",
    "    tf.random.set_seed(seed)\n",
    "    \n",
    "seed_everything(42)"
   ]
  },
  {
   "cell_type": "code",
   "execution_count": 3,
   "id": "ec536a2f",
   "metadata": {
    "execution": {
     "iopub.execute_input": "2022-11-11T08:12:39.612226Z",
     "iopub.status.busy": "2022-11-11T08:12:39.611231Z",
     "iopub.status.idle": "2022-11-11T08:12:43.799554Z",
     "shell.execute_reply": "2022-11-11T08:12:43.798535Z"
    },
    "papermill": {
     "duration": 4.202888,
     "end_time": "2022-11-11T08:12:43.801981",
     "exception": false,
     "start_time": "2022-11-11T08:12:39.599093",
     "status": "completed"
    },
    "tags": []
   },
   "outputs": [
    {
     "name": "stderr",
     "output_type": "stream",
     "text": [
      "2022-11-11 08:12:39.624317: I tensorflow/core/platform/cpu_feature_guard.cc:142] This TensorFlow binary is optimized with oneAPI Deep Neural Network Library (oneDNN) to use the following CPU instructions in performance-critical operations:  AVX2 AVX512F FMA\n",
      "To enable them in other operations, rebuild TensorFlow with the appropriate compiler flags.\n",
      "2022-11-11 08:12:39.998822: I tensorflow/stream_executor/cuda/cuda_gpu_executor.cc:937] successful NUMA node read from SysFS had negative value (-1), but there must be at least one NUMA node, so returning NUMA node zero\n",
      "2022-11-11 08:12:40.000125: I tensorflow/stream_executor/cuda/cuda_gpu_executor.cc:937] successful NUMA node read from SysFS had negative value (-1), but there must be at least one NUMA node, so returning NUMA node zero\n",
      "2022-11-11 08:12:40.179601: I tensorflow/stream_executor/cuda/cuda_gpu_executor.cc:937] successful NUMA node read from SysFS had negative value (-1), but there must be at least one NUMA node, so returning NUMA node zero\n",
      "2022-11-11 08:12:40.180730: I tensorflow/stream_executor/cuda/cuda_gpu_executor.cc:937] successful NUMA node read from SysFS had negative value (-1), but there must be at least one NUMA node, so returning NUMA node zero\n",
      "2022-11-11 08:12:40.181845: I tensorflow/stream_executor/cuda/cuda_gpu_executor.cc:937] successful NUMA node read from SysFS had negative value (-1), but there must be at least one NUMA node, so returning NUMA node zero\n",
      "2022-11-11 08:12:40.182956: I tensorflow/stream_executor/cuda/cuda_gpu_executor.cc:937] successful NUMA node read from SysFS had negative value (-1), but there must be at least one NUMA node, so returning NUMA node zero\n",
      "2022-11-11 08:12:43.784557: I tensorflow/stream_executor/cuda/cuda_gpu_executor.cc:937] successful NUMA node read from SysFS had negative value (-1), but there must be at least one NUMA node, so returning NUMA node zero\n",
      "2022-11-11 08:12:43.786170: I tensorflow/stream_executor/cuda/cuda_gpu_executor.cc:937] successful NUMA node read from SysFS had negative value (-1), but there must be at least one NUMA node, so returning NUMA node zero\n",
      "2022-11-11 08:12:43.787241: I tensorflow/stream_executor/cuda/cuda_gpu_executor.cc:937] successful NUMA node read from SysFS had negative value (-1), but there must be at least one NUMA node, so returning NUMA node zero\n",
      "2022-11-11 08:12:43.788193: I tensorflow/stream_executor/cuda/cuda_gpu_executor.cc:937] successful NUMA node read from SysFS had negative value (-1), but there must be at least one NUMA node, so returning NUMA node zero\n",
      "2022-11-11 08:12:43.789407: I tensorflow/stream_executor/cuda/cuda_gpu_executor.cc:937] successful NUMA node read from SysFS had negative value (-1), but there must be at least one NUMA node, so returning NUMA node zero\n",
      "2022-11-11 08:12:43.790393: I tensorflow/core/common_runtime/gpu/gpu_device.cc:1510] Created device /job:localhost/replica:0/task:0/device:GPU:0 with 13789 MB memory:  -> device: 0, name: Tesla T4, pci bus id: 0000:00:04.0, compute capability: 7.5\n",
      "2022-11-11 08:12:43.794801: I tensorflow/stream_executor/cuda/cuda_gpu_executor.cc:937] successful NUMA node read from SysFS had negative value (-1), but there must be at least one NUMA node, so returning NUMA node zero\n",
      "2022-11-11 08:12:43.795758: I tensorflow/core/common_runtime/gpu/gpu_device.cc:1510] Created device /job:localhost/replica:0/task:0/device:GPU:1 with 13789 MB memory:  -> device: 1, name: Tesla T4, pci bus id: 0000:00:05.0, compute capability: 7.5\n"
     ]
    }
   ],
   "source": [
    "config = tf.compat.v1.ConfigProto()\n",
    "config.gpu_options.allow_growth = True\n",
    "session = tf.compat.v1.Session(config=config)"
   ]
  },
  {
   "cell_type": "code",
   "execution_count": 4,
   "id": "66e75b51",
   "metadata": {
    "execution": {
     "iopub.execute_input": "2022-11-11T08:12:43.826529Z",
     "iopub.status.busy": "2022-11-11T08:12:43.825970Z",
     "iopub.status.idle": "2022-11-11T08:12:43.847053Z",
     "shell.execute_reply": "2022-11-11T08:12:43.846409Z"
    },
    "papermill": {
     "duration": 0.035612,
     "end_time": "2022-11-11T08:12:43.849084",
     "exception": false,
     "start_time": "2022-11-11T08:12:43.813472",
     "status": "completed"
    },
    "tags": []
   },
   "outputs": [],
   "source": [
    "train = pd.read_csv('../input/osic-pulmonary-fibrosis-progression/train.csv') "
   ]
  },
  {
   "cell_type": "code",
   "execution_count": 5,
   "id": "64024c68",
   "metadata": {
    "execution": {
     "iopub.execute_input": "2022-11-11T08:12:43.872328Z",
     "iopub.status.busy": "2022-11-11T08:12:43.871903Z",
     "iopub.status.idle": "2022-11-11T08:12:43.880304Z",
     "shell.execute_reply": "2022-11-11T08:12:43.879457Z"
    },
    "papermill": {
     "duration": 0.022248,
     "end_time": "2022-11-11T08:12:43.882323",
     "exception": false,
     "start_time": "2022-11-11T08:12:43.860075",
     "status": "completed"
    },
    "tags": []
   },
   "outputs": [],
   "source": [
    "def get_tab(df):\n",
    "    vector = [(df.Age.values[0] - 30) / 30] \n",
    "    \n",
    "    if df.Sex.values[0] == 'male':\n",
    "       vector.append(0)\n",
    "    else:\n",
    "       vector.append(1)\n",
    "    \n",
    "    if df.SmokingStatus.values[0] == 'Never smoked':\n",
    "        vector.extend([0,0])\n",
    "    elif df.SmokingStatus.values[0] == 'Ex-smoker':\n",
    "        vector.extend([1,1])\n",
    "    elif df.SmokingStatus.values[0] == 'Currently smokes':\n",
    "        vector.extend([0,1])\n",
    "    else:\n",
    "        vector.extend([1,0])\n",
    "    return np.array(vector) "
   ]
  },
  {
   "cell_type": "code",
   "execution_count": 6,
   "id": "32a74a6f",
   "metadata": {
    "execution": {
     "iopub.execute_input": "2022-11-11T08:12:43.906080Z",
     "iopub.status.busy": "2022-11-11T08:12:43.904615Z",
     "iopub.status.idle": "2022-11-11T08:12:44.169268Z",
     "shell.execute_reply": "2022-11-11T08:12:44.168047Z"
    },
    "papermill": {
     "duration": 0.278412,
     "end_time": "2022-11-11T08:12:44.171672",
     "exception": false,
     "start_time": "2022-11-11T08:12:43.893260",
     "status": "completed"
    },
    "tags": []
   },
   "outputs": [
    {
     "data": {
      "application/vnd.jupyter.widget-view+json": {
       "model_id": "dfa92542ebf2411c8f5493ac14939d8c",
       "version_major": 2,
       "version_minor": 0
      },
      "text/plain": [
       "0it [00:00, ?it/s]"
      ]
     },
     "metadata": {},
     "output_type": "display_data"
    },
    {
     "name": "stderr",
     "output_type": "stream",
     "text": [
      "/opt/conda/lib/python3.7/site-packages/ipykernel_launcher.py:9: FutureWarning: `rcond` parameter will change to the default of machine precision times ``max(M, N)`` where M and N are the input matrix dimensions.\n",
      "To use the future default and silence this warning we advise to pass `rcond=None`, to keep using the old, explicitly pass `rcond=-1`.\n",
      "  if __name__ == \"__main__\":\n"
     ]
    }
   ],
   "source": [
    "A = {} \n",
    "TAB = {} \n",
    "P = [] \n",
    "for i, p in tqdm(enumerate(train.Patient.unique())):\n",
    "    sub = train.loc[train.Patient == p, :] \n",
    "    fvc = sub.FVC.values\n",
    "    weeks = sub.Weeks.values\n",
    "    c = np.vstack([weeks, np.ones(len(weeks))]).T\n",
    "    a, b = np.linalg.lstsq(c, fvc)[0]\n",
    "    \n",
    "    A[p] = a\n",
    "    TAB[p] = get_tab(sub)\n",
    "    P.append(p)"
   ]
  },
  {
   "cell_type": "code",
   "execution_count": 7,
   "id": "d688c8ad",
   "metadata": {
    "execution": {
     "iopub.execute_input": "2022-11-11T08:12:44.196453Z",
     "iopub.status.busy": "2022-11-11T08:12:44.196128Z",
     "iopub.status.idle": "2022-11-11T08:12:44.205432Z",
     "shell.execute_reply": "2022-11-11T08:12:44.204538Z"
    },
    "papermill": {
     "duration": 0.023772,
     "end_time": "2022-11-11T08:12:44.207521",
     "exception": false,
     "start_time": "2022-11-11T08:12:44.183749",
     "status": "completed"
    },
    "tags": []
   },
   "outputs": [],
   "source": [
    "train = pd.read_csv('../input/osic-pulmonary-fibrosis-progression/train.csv') "
   ]
  },
  {
   "cell_type": "code",
   "execution_count": null,
   "id": "70724ba4",
   "metadata": {
    "papermill": {
     "duration": 0.011039,
     "end_time": "2022-11-11T08:12:44.230030",
     "exception": false,
     "start_time": "2022-11-11T08:12:44.218991",
     "status": "completed"
    },
    "tags": []
   },
   "outputs": [],
   "source": []
  },
  {
   "cell_type": "code",
   "execution_count": 8,
   "id": "ee6e9422",
   "metadata": {
    "execution": {
     "iopub.execute_input": "2022-11-11T08:12:44.253118Z",
     "iopub.status.busy": "2022-11-11T08:12:44.252816Z",
     "iopub.status.idle": "2022-11-11T08:12:44.258514Z",
     "shell.execute_reply": "2022-11-11T08:12:44.257678Z"
    },
    "papermill": {
     "duration": 0.019549,
     "end_time": "2022-11-11T08:12:44.260583",
     "exception": false,
     "start_time": "2022-11-11T08:12:44.241034",
     "status": "completed"
    },
    "tags": []
   },
   "outputs": [],
   "source": [
    "def get_img(path):\n",
    "    d = pydicom.dcmread(path)\n",
    "    return cv2.resize(d.pixel_array / 2**11, (512, 512))"
   ]
  },
  {
   "cell_type": "code",
   "execution_count": 9,
   "id": "003aa561",
   "metadata": {
    "execution": {
     "iopub.execute_input": "2022-11-11T08:12:44.282909Z",
     "iopub.status.busy": "2022-11-11T08:12:44.282651Z",
     "iopub.status.idle": "2022-11-11T08:12:44.294010Z",
     "shell.execute_reply": "2022-11-11T08:12:44.293153Z"
    },
    "papermill": {
     "duration": 0.024547,
     "end_time": "2022-11-11T08:12:44.295867",
     "exception": false,
     "start_time": "2022-11-11T08:12:44.271320",
     "status": "completed"
    },
    "tags": []
   },
   "outputs": [],
   "source": [
    "from tensorflow.keras.utils import Sequence\n",
    "\n",
    "class IGenerator(Sequence):\n",
    "    BAD_ID = ['ID00011637202177653955184', 'ID00052637202186188008618']\n",
    "    def __init__(self, keys, a, tab, batch_size=32):\n",
    "        self.keys = [k for k in keys if k not in self.BAD_ID]\n",
    "        self.a = a\n",
    "        self.tab = tab\n",
    "        self.batch_size = batch_size\n",
    "        \n",
    "        self.train_data = {}\n",
    "        for p in train.Patient.values:\n",
    "            self.train_data[p] = os.listdir(f'./input/pulmonary/osic-pulmonary-fibrosis-progression/train/{p}/')\n",
    "    \n",
    "    def __len__(self):\n",
    "        return 1000\n",
    "    \n",
    "    def __getitem__(self, idx):\n",
    "        x = []\n",
    "        a, tab = [], [] \n",
    "        keys = np.random.choice(self.keys, size = self.batch_size)\n",
    "        for k in keys:\n",
    "            try:\n",
    "                i = np.random.choice(self.train_data[k], size=1)[0]\n",
    "                img = get_img(f'./input/pulmonary/osic-pulmonary-fibrosis-progression/train/{k}/{i}')\n",
    "                x.append(img)\n",
    "                a.append(self.a[k])\n",
    "                tab.append(self.tab[k])\n",
    "            except:\n",
    "                print(k, i)\n",
    "       \n",
    "        x,a,tab = np.array(x), np.array(a), np.array(tab)\n",
    "        x = np.expand_dims(x, axis=-1)\n",
    "        return [x, tab] , a"
   ]
  },
  {
   "cell_type": "code",
   "execution_count": 10,
   "id": "b9cb5367",
   "metadata": {
    "execution": {
     "iopub.execute_input": "2022-11-11T08:12:44.318858Z",
     "iopub.status.busy": "2022-11-11T08:12:44.318147Z",
     "iopub.status.idle": "2022-11-11T08:13:06.663689Z",
     "shell.execute_reply": "2022-11-11T08:13:06.662449Z"
    },
    "papermill": {
     "duration": 22.360133,
     "end_time": "2022-11-11T08:13:06.666622",
     "exception": false,
     "start_time": "2022-11-11T08:12:44.306489",
     "status": "completed"
    },
    "tags": []
   },
   "outputs": [
    {
     "name": "stderr",
     "output_type": "stream",
     "text": [
      "2022-11-11 08:12:44.355966: I tensorflow/stream_executor/cuda/cuda_gpu_executor.cc:937] successful NUMA node read from SysFS had negative value (-1), but there must be at least one NUMA node, so returning NUMA node zero\n",
      "2022-11-11 08:12:44.356861: I tensorflow/stream_executor/cuda/cuda_gpu_executor.cc:937] successful NUMA node read from SysFS had negative value (-1), but there must be at least one NUMA node, so returning NUMA node zero\n",
      "2022-11-11 08:12:44.357626: I tensorflow/stream_executor/cuda/cuda_gpu_executor.cc:937] successful NUMA node read from SysFS had negative value (-1), but there must be at least one NUMA node, so returning NUMA node zero\n",
      "2022-11-11 08:12:44.358356: I tensorflow/stream_executor/cuda/cuda_gpu_executor.cc:937] successful NUMA node read from SysFS had negative value (-1), but there must be at least one NUMA node, so returning NUMA node zero\n",
      "2022-11-11 08:12:44.359051: I tensorflow/stream_executor/cuda/cuda_gpu_executor.cc:937] successful NUMA node read from SysFS had negative value (-1), but there must be at least one NUMA node, so returning NUMA node zero\n",
      "2022-11-11 08:12:44.359767: I tensorflow/stream_executor/cuda/cuda_gpu_executor.cc:937] successful NUMA node read from SysFS had negative value (-1), but there must be at least one NUMA node, so returning NUMA node zero\n",
      "2022-11-11 08:12:44.360688: I tensorflow/stream_executor/cuda/cuda_gpu_executor.cc:937] successful NUMA node read from SysFS had negative value (-1), but there must be at least one NUMA node, so returning NUMA node zero\n",
      "2022-11-11 08:12:44.361458: I tensorflow/stream_executor/cuda/cuda_gpu_executor.cc:937] successful NUMA node read from SysFS had negative value (-1), but there must be at least one NUMA node, so returning NUMA node zero\n",
      "2022-11-11 08:12:44.362169: I tensorflow/stream_executor/cuda/cuda_gpu_executor.cc:937] successful NUMA node read from SysFS had negative value (-1), but there must be at least one NUMA node, so returning NUMA node zero\n",
      "2022-11-11 08:12:44.362837: I tensorflow/stream_executor/cuda/cuda_gpu_executor.cc:937] successful NUMA node read from SysFS had negative value (-1), but there must be at least one NUMA node, so returning NUMA node zero\n",
      "2022-11-11 08:12:44.363543: I tensorflow/stream_executor/cuda/cuda_gpu_executor.cc:937] successful NUMA node read from SysFS had negative value (-1), but there must be at least one NUMA node, so returning NUMA node zero\n",
      "2022-11-11 08:12:44.364251: I tensorflow/stream_executor/cuda/cuda_gpu_executor.cc:937] successful NUMA node read from SysFS had negative value (-1), but there must be at least one NUMA node, so returning NUMA node zero\n",
      "2022-11-11 08:12:44.365101: I tensorflow/stream_executor/cuda/cuda_gpu_executor.cc:937] successful NUMA node read from SysFS had negative value (-1), but there must be at least one NUMA node, so returning NUMA node zero\n",
      "2022-11-11 08:12:44.365817: I tensorflow/stream_executor/cuda/cuda_gpu_executor.cc:937] successful NUMA node read from SysFS had negative value (-1), but there must be at least one NUMA node, so returning NUMA node zero\n",
      "2022-11-11 08:12:44.366573: I tensorflow/stream_executor/cuda/cuda_gpu_executor.cc:937] successful NUMA node read from SysFS had negative value (-1), but there must be at least one NUMA node, so returning NUMA node zero\n",
      "2022-11-11 08:12:44.367205: I tensorflow/core/common_runtime/gpu/gpu_device.cc:1510] Created device /job:localhost/replica:0/task:0/device:GPU:0 with 13789 MB memory:  -> device: 0, name: Tesla T4, pci bus id: 0000:00:04.0, compute capability: 7.5\n",
      "2022-11-11 08:12:44.367314: I tensorflow/stream_executor/cuda/cuda_gpu_executor.cc:937] successful NUMA node read from SysFS had negative value (-1), but there must be at least one NUMA node, so returning NUMA node zero\n",
      "2022-11-11 08:12:44.367932: I tensorflow/core/common_runtime/gpu/gpu_device.cc:1510] Created device /job:localhost/replica:0/task:0/device:GPU:1 with 13789 MB memory:  -> device: 1, name: Tesla T4, pci bus id: 0000:00:05.0, compute capability: 7.5\n"
     ]
    },
    {
     "name": "stdout",
     "output_type": "stream",
     "text": [
      "Number of models: 1\n"
     ]
    }
   ],
   "source": [
    "from tensorflow.keras.layers import (\n",
    "    Dense, Dropout, Activation, Flatten, Input, BatchNormalization, GlobalAveragePooling2D, Add, Conv2D, AveragePooling2D, \n",
    "    LeakyReLU, Concatenate \n",
    ")\n",
    "import efficientnet.tfkeras as efn\n",
    "\n",
    "def get_efficientnet(model, shape):\n",
    "    models_dict = {\n",
    "        'b0': efn.EfficientNetB0(input_shape=shape,weights=None,include_top=False),\n",
    "        'b1': efn.EfficientNetB1(input_shape=shape,weights=None,include_top=False),\n",
    "        'b2': efn.EfficientNetB2(input_shape=shape,weights=None,include_top=False),\n",
    "        'b3': efn.EfficientNetB3(input_shape=shape,weights=None,include_top=False),\n",
    "        'b4': efn.EfficientNetB4(input_shape=shape,weights=None,include_top=False),\n",
    "        'b5': efn.EfficientNetB5(input_shape=shape,weights=None,include_top=False),\n",
    "        'b6': efn.EfficientNetB6(input_shape=shape,weights=None,include_top=False),\n",
    "        'b7': efn.EfficientNetB7(input_shape=shape,weights=None,include_top=False)\n",
    "    }\n",
    "    return models_dict[model]\n",
    "\n",
    "def build_model(shape=(512, 512, 1), model_class=None):\n",
    "    inp = Input(shape=shape)\n",
    "    base = get_efficientnet(model_class, shape)\n",
    "    x = base(inp)\n",
    "    x = GlobalAveragePooling2D()(x)\n",
    "    inp2 = Input(shape=(4,))\n",
    "    x2 = tf.keras.layers.GaussianNoise(0.2)(inp2)\n",
    "    x = Concatenate()([x, x2]) \n",
    "    x = Dropout(0.35)(x) \n",
    "    x = Dense(1)(x)\n",
    "    model = Model([inp, inp2] , x)\n",
    "    \n",
    "    weights = [w for w in os.listdir('../input/osic-model-weights') if model_class in w][0]\n",
    "    model.load_weights('../input/osic-model-weights/' + weights)\n",
    "    return model\n",
    "\n",
    "model_classes = ['b5'] #['b0','b1','b2','b3',b4','b5','b6','b7']\n",
    "models = [build_model(shape=(512, 512, 1), model_class=m) for m in model_classes]\n",
    "print('Number of models: ' + str(len(models)))"
   ]
  },
  {
   "cell_type": "code",
   "execution_count": 11,
   "id": "5503f415",
   "metadata": {
    "execution": {
     "iopub.execute_input": "2022-11-11T08:13:06.691134Z",
     "iopub.status.busy": "2022-11-11T08:13:06.690149Z",
     "iopub.status.idle": "2022-11-11T08:13:06.696388Z",
     "shell.execute_reply": "2022-11-11T08:13:06.695395Z"
    },
    "papermill": {
     "duration": 0.02002,
     "end_time": "2022-11-11T08:13:06.698309",
     "exception": false,
     "start_time": "2022-11-11T08:13:06.678289",
     "status": "completed"
    },
    "tags": []
   },
   "outputs": [],
   "source": [
    "from sklearn.model_selection import train_test_split \n",
    "\n",
    "tr_p, vl_p = train_test_split(P, \n",
    "                              shuffle=True, \n",
    "                              train_size= 0.8) "
   ]
  },
  {
   "cell_type": "code",
   "execution_count": 12,
   "id": "1e875733",
   "metadata": {
    "execution": {
     "iopub.execute_input": "2022-11-11T08:13:06.722950Z",
     "iopub.status.busy": "2022-11-11T08:13:06.721240Z",
     "iopub.status.idle": "2022-11-11T08:13:07.023850Z",
     "shell.execute_reply": "2022-11-11T08:13:07.022920Z"
    },
    "papermill": {
     "duration": 0.316983,
     "end_time": "2022-11-11T08:13:07.026174",
     "exception": false,
     "start_time": "2022-11-11T08:13:06.709191",
     "status": "completed"
    },
    "tags": []
   },
   "outputs": [
    {
     "name": "stderr",
     "output_type": "stream",
     "text": [
      "/opt/conda/lib/python3.7/site-packages/seaborn/distributions.py:2619: FutureWarning: `distplot` is a deprecated function and will be removed in a future version. Please adapt your code to use either `displot` (a figure-level function with similar flexibility) or `histplot` (an axes-level function for histograms).\n",
      "  warnings.warn(msg, FutureWarning)\n"
     ]
    },
    {
     "data": {
      "image/png": "[encoded data removed]",
      "text/plain": [
       "<Figure size 432x288 with 1 Axes>"
      ]
     },
     "metadata": {
      "needs_background": "light"
     },
     "output_type": "display_data"
    }
   ],
   "source": [
    "sns.distplot(list(A.values()));\n"
   ]
  },
  {
   "cell_type": "code",
   "execution_count": 13,
   "id": "6425647a",
   "metadata": {
    "execution": {
     "iopub.execute_input": "2022-11-11T08:13:07.050537Z",
     "iopub.status.busy": "2022-11-11T08:13:07.049614Z",
     "iopub.status.idle": "2022-11-11T08:13:07.055454Z",
     "shell.execute_reply": "2022-11-11T08:13:07.054485Z"
    },
    "papermill": {
     "duration": 0.02006,
     "end_time": "2022-11-11T08:13:07.057505",
     "exception": false,
     "start_time": "2022-11-11T08:13:07.037445",
     "status": "completed"
    },
    "tags": []
   },
   "outputs": [],
   "source": [
    "def score(fvc_true, fvc_pred, sigma):\n",
    "    sigma_clip = np.maximum(sigma, 70) # changed from 70, trie 66.7 too\n",
    "    delta = np.abs(fvc_true - fvc_pred)\n",
    "    delta = np.minimum(delta, 1000)\n",
    "    sq2 = np.sqrt(2)\n",
    "    metric = (delta / sigma_clip)*sq2 + np.log(sigma_clip* sq2)\n",
    "    return np.mean(metric)"
   ]
  },
  {
   "cell_type": "code",
   "execution_count": 14,
   "id": "387d4ead",
   "metadata": {
    "execution": {
     "iopub.execute_input": "2022-11-11T08:13:07.081138Z",
     "iopub.status.busy": "2022-11-11T08:13:07.080862Z",
     "iopub.status.idle": "2022-11-11T08:41:25.567132Z",
     "shell.execute_reply": "2022-11-11T08:41:25.566036Z"
    },
    "papermill": {
     "duration": 1698.501417,
     "end_time": "2022-11-11T08:41:25.569961",
     "exception": false,
     "start_time": "2022-11-11T08:13:07.068544",
     "status": "completed"
    },
    "tags": []
   },
   "outputs": [
    {
     "data": {
      "application/vnd.jupyter.widget-view+json": {
       "model_id": "fb12e24b75764061ba82cf6dee051f65",
       "version_major": 2,
       "version_minor": 0
      },
      "text/plain": [
       "  0%|          | 0/9 [00:00<?, ?it/s]"
      ]
     },
     "metadata": {},
     "output_type": "display_data"
    },
    {
     "name": "stderr",
     "output_type": "stream",
     "text": [
      "2022-11-11 08:13:07.484300: I tensorflow/compiler/mlir/mlir_graph_optimization_pass.cc:185] None of the MLIR Optimization Passes are enabled (registered 2)\n",
      "2022-11-11 08:13:11.579584: I tensorflow/stream_executor/cuda/cuda_dnn.cc:369] Loaded cuDNN version 8005\n"
     ]
    },
    {
     "name": "stdout",
     "output_type": "stream",
     "text": [
      "6.528656650563527\n",
      "6.52865475462099\n",
      "6.528651817108288\n",
      "6.528655624613082\n",
      "6.528657585136223\n",
      "6.528645147949963\n",
      "6.528628467562648\n",
      "6.528611378485359\n",
      "6.528594602787576\n"
     ]
    }
   ],
   "source": [
    "subs = []\n",
    "for model in models:\n",
    "    metric = []\n",
    "    for q in tqdm(range(1, 10)):\n",
    "        m = []\n",
    "        for p in vl_p:\n",
    "            x = [] \n",
    "            tab = [] \n",
    "\n",
    "            if p in ['ID00011637202177653955184', 'ID00052637202186188008618']:\n",
    "                continue\n",
    "\n",
    "            ldir = os.listdir(f'../input/osic-pulmonary-fibrosis-progression/train/{p}/')\n",
    "            for i in ldir:\n",
    "                if int(i[:-4]) / len(ldir) < 0.8 and int(i[:-4]) / len(ldir) > 0.15:\n",
    "                    x.append(get_img(f'../input/osic-pulmonary-fibrosis-progression/train/{p}/{i}')) \n",
    "                    tab.append(get_tab(train.loc[train.Patient == p, :])) \n",
    "            if len(x) < 1:\n",
    "                continue\n",
    "            tab = np.array(tab) \n",
    "\n",
    "            x = np.expand_dims(x, axis=-1) \n",
    "            _a = model.predict([x, tab]) \n",
    "            a = np.quantile(_a, q / 10)\n",
    "\n",
    "            percent_true = train.Percent.values[train.Patient == p]\n",
    "            fvc_true = train.FVC.values[train.Patient == p]\n",
    "            weeks_true = train.Weeks.values[train.Patient == p]\n",
    "\n",
    "            fvc = a * (weeks_true - weeks_true[0]) + fvc_true[0]\n",
    "            percent = percent_true[0] - a * abs(weeks_true - weeks_true[0])\n",
    "            m.append(score(fvc_true, fvc, percent))\n",
    "        print(np.mean(m))\n",
    "        metric.append(np.mean(m))\n",
    "\n",
    "    q = (np.argmin(metric) + 1)/ 10\n",
    "\n",
    "    sub = pd.read_csv('../input/osic-pulmonary-fibrosis-progression/sample_submission.csv') \n",
    "    test = pd.read_csv('../input/osic-pulmonary-fibrosis-progression/test.csv') \n",
    "    A_test, B_test, P_test,W, FVC= {}, {}, {},{},{} \n",
    "    STD, WEEK = {}, {} \n",
    "    for p in test.Patient.unique():\n",
    "        x = [] \n",
    "        tab = [] \n",
    "        ldir = os.listdir(f'../input/osic-pulmonary-fibrosis-progression/test/{p}/')\n",
    "        for i in ldir:\n",
    "            if int(i[:-4]) / len(ldir) < 0.8 and int(i[:-4]) / len(ldir) > 0.15:\n",
    "                x.append(get_img(f'../input/osic-pulmonary-fibrosis-progression/test/{p}/{i}')) \n",
    "                tab.append(get_tab(test.loc[test.Patient == p, :])) \n",
    "        if len(x) <= 1:\n",
    "            continue\n",
    "        tab = np.array(tab) \n",
    "\n",
    "        x = np.expand_dims(x, axis=-1) \n",
    "        _a = model.predict([x, tab]) \n",
    "        a = np.quantile(_a, q)\n",
    "        A_test[p] = a\n",
    "        B_test[p] = test.FVC.values[test.Patient == p] - a*test.Weeks.values[test.Patient == p]\n",
    "        P_test[p] = test.Percent.values[test.Patient == p] \n",
    "        WEEK[p] = test.Weeks.values[test.Patient == p]\n",
    "\n",
    "    for k in sub.Patient_Week.values:\n",
    "        p, w = k.split('_')\n",
    "        w = int(w) \n",
    "\n",
    "        fvc = A_test[p] * w + B_test[p]\n",
    "        sub.loc[sub.Patient_Week == k, 'FVC'] = fvc\n",
    "        sub.loc[sub.Patient_Week == k, 'Confidence'] = (\n",
    "            P_test[p] - A_test[p] * abs(WEEK[p] - w) \n",
    "    ) \n",
    "\n",
    "    _sub = sub[[\"Patient_Week\",\"FVC\",\"Confidence\"]].copy()\n",
    "    subs.append(_sub)"
   ]
  },
  {
   "cell_type": "code",
   "execution_count": null,
   "id": "69a11704",
   "metadata": {
    "papermill": {
     "duration": 0.011864,
     "end_time": "2022-11-11T08:41:25.594864",
     "exception": false,
     "start_time": "2022-11-11T08:41:25.583000",
     "status": "completed"
    },
    "tags": []
   },
   "outputs": [],
   "source": []
  },
  {
   "cell_type": "code",
   "execution_count": 15,
   "id": "6d879236",
   "metadata": {
    "execution": {
     "iopub.execute_input": "2022-11-11T08:41:25.619741Z",
     "iopub.status.busy": "2022-11-11T08:41:25.619435Z",
     "iopub.status.idle": "2022-11-11T08:41:25.629367Z",
     "shell.execute_reply": "2022-11-11T08:41:25.628442Z"
    },
    "papermill": {
     "duration": 0.024739,
     "end_time": "2022-11-11T08:41:25.631312",
     "exception": false,
     "start_time": "2022-11-11T08:41:25.606573",
     "status": "completed"
    },
    "tags": []
   },
   "outputs": [],
   "source": [
    "N = len(subs)\n",
    "sub = subs[0].copy() # ref\n",
    "sub[\"FVC\"] = 0\n",
    "sub[\"Confidence\"] = 0\n",
    "for i in range(N):\n",
    "    sub[\"FVC\"] += subs[0][\"FVC\"] * (1/N)\n",
    "    sub[\"Confidence\"] += subs[0][\"Confidence\"] * (1/N)"
   ]
  },
  {
   "cell_type": "code",
   "execution_count": 16,
   "id": "e4f6facc",
   "metadata": {
    "execution": {
     "iopub.execute_input": "2022-11-11T08:41:25.656051Z",
     "iopub.status.busy": "2022-11-11T08:41:25.655746Z",
     "iopub.status.idle": "2022-11-11T08:41:25.671467Z",
     "shell.execute_reply": "2022-11-11T08:41:25.670563Z"
    },
    "papermill": {
     "duration": 0.030046,
     "end_time": "2022-11-11T08:41:25.673419",
     "exception": false,
     "start_time": "2022-11-11T08:41:25.643373",
     "status": "completed"
    },
    "tags": []
   },
   "outputs": [
    {
     "data": {
      "text/html": [
       "<div>\n",
       "<style scoped>\n",
       "    .dataframe tbody tr th:only-of-type {\n",
       "        vertical-align: middle;\n",
       "    }\n",
       "\n",
       "    .dataframe tbody tr th {\n",
       "        vertical-align: top;\n",
       "    }\n",
       "\n",
       "    .dataframe thead th {\n",
       "        text-align: right;\n",
       "    }\n",
       "</style>\n",
       "<table border=\"1\" class=\"dataframe\">\n",
       "  <thead>\n",
       "    <tr style=\"text-align: right;\">\n",
       "      <th></th>\n",
       "      <th>Patient_Week</th>\n",
       "      <th>FVC</th>\n",
       "      <th>Confidence</th>\n",
       "    </tr>\n",
       "  </thead>\n",
       "  <tbody>\n",
       "    <tr>\n",
       "      <th>0</th>\n",
       "      <td>ID00419637202311204720264_-12</td>\n",
       "      <td>3092.863247</td>\n",
       "      <td>143.050102</td>\n",
       "    </tr>\n",
       "    <tr>\n",
       "      <th>1</th>\n",
       "      <td>ID00421637202311550012437_-12</td>\n",
       "      <td>2847.443955</td>\n",
       "      <td>190.489246</td>\n",
       "    </tr>\n",
       "    <tr>\n",
       "      <th>2</th>\n",
       "      <td>ID00422637202311677017371_-12</td>\n",
       "      <td>2002.647581</td>\n",
       "      <td>149.320075</td>\n",
       "    </tr>\n",
       "    <tr>\n",
       "      <th>3</th>\n",
       "      <td>ID00423637202312137826377_-12</td>\n",
       "      <td>3410.609762</td>\n",
       "      <td>195.868665</td>\n",
       "    </tr>\n",
       "    <tr>\n",
       "      <th>4</th>\n",
       "      <td>ID00426637202313170790466_-12</td>\n",
       "      <td>2971.426423</td>\n",
       "      <td>118.251391</td>\n",
       "    </tr>\n",
       "  </tbody>\n",
       "</table>\n",
       "</div>"
      ],
      "text/plain": [
       "                    Patient_Week          FVC  Confidence\n",
       "0  ID00419637202311204720264_-12  3092.863247  143.050102\n",
       "1  ID00421637202311550012437_-12  2847.443955  190.489246\n",
       "2  ID00422637202311677017371_-12  2002.647581  149.320075\n",
       "3  ID00423637202312137826377_-12  3410.609762  195.868665\n",
       "4  ID00426637202313170790466_-12  2971.426423  118.251391"
      ]
     },
     "execution_count": 16,
     "metadata": {},
     "output_type": "execute_result"
    }
   ],
   "source": [
    "sub.head()"
   ]
  },
  {
   "cell_type": "code",
   "execution_count": 17,
   "id": "de158c71",
   "metadata": {
    "execution": {
     "iopub.execute_input": "2022-11-11T08:41:25.698810Z",
     "iopub.status.busy": "2022-11-11T08:41:25.698028Z",
     "iopub.status.idle": "2022-11-11T08:41:25.712551Z",
     "shell.execute_reply": "2022-11-11T08:41:25.711432Z"
    },
    "papermill": {
     "duration": 0.029243,
     "end_time": "2022-11-11T08:41:25.714642",
     "exception": false,
     "start_time": "2022-11-11T08:41:25.685399",
     "status": "completed"
    },
    "tags": []
   },
   "outputs": [],
   "source": [
    "sub[[\"Patient_Week\",\"FVC\",\"Confidence\"]].to_csv(\"submission_img.csv\", index=False)"
   ]
  },
  {
   "cell_type": "code",
   "execution_count": 18,
   "id": "7a54fb6d",
   "metadata": {
    "execution": {
     "iopub.execute_input": "2022-11-11T08:41:25.740350Z",
     "iopub.status.busy": "2022-11-11T08:41:25.739549Z",
     "iopub.status.idle": "2022-11-11T08:41:25.744884Z",
     "shell.execute_reply": "2022-11-11T08:41:25.744018Z"
    },
    "papermill": {
     "duration": 0.020616,
     "end_time": "2022-11-11T08:41:25.747050",
     "exception": false,
     "start_time": "2022-11-11T08:41:25.726434",
     "status": "completed"
    },
    "tags": []
   },
   "outputs": [],
   "source": [
    "img_sub = sub[[\"Patient_Week\",\"FVC\",\"Confidence\"]].copy()"
   ]
  },
  {
   "cell_type": "code",
   "execution_count": null,
   "id": "a1c4dc51",
   "metadata": {
    "papermill": {
     "duration": 0.011932,
     "end_time": "2022-11-11T08:41:25.770767",
     "exception": false,
     "start_time": "2022-11-11T08:41:25.758835",
     "status": "completed"
    },
    "tags": []
   },
   "outputs": [],
   "source": []
  },
  {
   "cell_type": "code",
   "execution_count": 19,
   "id": "8895d472",
   "metadata": {
    "execution": {
     "iopub.execute_input": "2022-11-11T08:41:25.796401Z",
     "iopub.status.busy": "2022-11-11T08:41:25.795806Z",
     "iopub.status.idle": "2022-11-11T08:41:25.842715Z",
     "shell.execute_reply": "2022-11-11T08:41:25.841178Z"
    },
    "papermill": {
     "duration": 0.06227,
     "end_time": "2022-11-11T08:41:25.844859",
     "exception": false,
     "start_time": "2022-11-11T08:41:25.782589",
     "status": "completed"
    },
    "tags": []
   },
   "outputs": [
    {
     "name": "stdout",
     "output_type": "stream",
     "text": [
      "add infos\n"
     ]
    }
   ],
   "source": [
    "ROOT = \"../input/osic-pulmonary-fibrosis-progression\"\n",
    "BATCH_SIZE=128\n",
    "\n",
    "tr = pd.read_csv(f\"{ROOT}/train.csv\")\n",
    "tr.drop_duplicates(keep=False, inplace=True, subset=['Patient','Weeks'])\n",
    "chunk = pd.read_csv(f\"{ROOT}/test.csv\")\n",
    "\n",
    "print(\"add infos\")\n",
    "sub = pd.read_csv(f\"{ROOT}/sample_submission.csv\")\n",
    "sub['Patient'] = sub['Patient_Week'].apply(lambda x:x.split('_')[0])\n",
    "sub['Weeks'] = sub['Patient_Week'].apply(lambda x: int(x.split('_')[-1]))\n",
    "sub =  sub[['Patient','Weeks','Confidence','Patient_Week']]\n",
    "sub = sub.merge(chunk.drop('Weeks', axis=1), on=\"Patient\")"
   ]
  },
  {
   "cell_type": "code",
   "execution_count": 20,
   "id": "010b92a6",
   "metadata": {
    "execution": {
     "iopub.execute_input": "2022-11-11T08:41:25.871577Z",
     "iopub.status.busy": "2022-11-11T08:41:25.870681Z",
     "iopub.status.idle": "2022-11-11T08:41:25.880948Z",
     "shell.execute_reply": "2022-11-11T08:41:25.880030Z"
    },
    "papermill": {
     "duration": 0.025169,
     "end_time": "2022-11-11T08:41:25.883001",
     "exception": false,
     "start_time": "2022-11-11T08:41:25.857832",
     "status": "completed"
    },
    "tags": []
   },
   "outputs": [],
   "source": [
    "tr['WHERE'] = 'train'\n",
    "chunk['WHERE'] = 'val'\n",
    "sub['WHERE'] = 'test'\n",
    "data = tr.append([chunk, sub])"
   ]
  },
  {
   "cell_type": "code",
   "execution_count": 21,
   "id": "b730a17b",
   "metadata": {
    "execution": {
     "iopub.execute_input": "2022-11-11T08:41:25.908387Z",
     "iopub.status.busy": "2022-11-11T08:41:25.907576Z",
     "iopub.status.idle": "2022-11-11T08:41:25.915550Z",
     "shell.execute_reply": "2022-11-11T08:41:25.914049Z"
    },
    "papermill": {
     "duration": 0.023129,
     "end_time": "2022-11-11T08:41:25.918200",
     "exception": false,
     "start_time": "2022-11-11T08:41:25.895071",
     "status": "completed"
    },
    "tags": []
   },
   "outputs": [
    {
     "name": "stdout",
     "output_type": "stream",
     "text": [
      "(1535, 8) (5, 8) (730, 10) (2270, 10)\n",
      "176 5 5 176\n"
     ]
    }
   ],
   "source": [
    "print(tr.shape, chunk.shape, sub.shape, data.shape)\n",
    "print(tr.Patient.nunique(), chunk.Patient.nunique(), sub.Patient.nunique(), \n",
    "      data.Patient.nunique())\n",
    "#"
   ]
  },
  {
   "cell_type": "code",
   "execution_count": 22,
   "id": "456b87c5",
   "metadata": {
    "execution": {
     "iopub.execute_input": "2022-11-11T08:41:25.943927Z",
     "iopub.status.busy": "2022-11-11T08:41:25.943143Z",
     "iopub.status.idle": "2022-11-11T08:41:25.956337Z",
     "shell.execute_reply": "2022-11-11T08:41:25.955242Z"
    },
    "papermill": {
     "duration": 0.028019,
     "end_time": "2022-11-11T08:41:25.958497",
     "exception": false,
     "start_time": "2022-11-11T08:41:25.930478",
     "status": "completed"
    },
    "tags": []
   },
   "outputs": [],
   "source": [
    "data['min_week'] = data['Weeks']\n",
    "data.loc[data.WHERE=='test','min_week'] = np.nan\n",
    "data['min_week'] = data.groupby('Patient')['min_week'].transform('min')"
   ]
  },
  {
   "cell_type": "code",
   "execution_count": 23,
   "id": "2f6da21a",
   "metadata": {
    "execution": {
     "iopub.execute_input": "2022-11-11T08:41:25.984194Z",
     "iopub.status.busy": "2022-11-11T08:41:25.983268Z",
     "iopub.status.idle": "2022-11-11T08:41:25.997656Z",
     "shell.execute_reply": "2022-11-11T08:41:25.996690Z"
    },
    "papermill": {
     "duration": 0.029313,
     "end_time": "2022-11-11T08:41:25.999755",
     "exception": false,
     "start_time": "2022-11-11T08:41:25.970442",
     "status": "completed"
    },
    "tags": []
   },
   "outputs": [],
   "source": [
    "base = data.loc[data.Weeks == data.min_week]\n",
    "base = base[['Patient','FVC']].copy()\n",
    "base.columns = ['Patient','min_FVC']\n",
    "base['nb'] = 1\n",
    "base['nb'] = base.groupby('Patient')['nb'].transform('cumsum')\n",
    "base = base[base.nb==1]\n",
    "base.drop('nb', axis=1, inplace=True)"
   ]
  },
  {
   "cell_type": "code",
   "execution_count": 24,
   "id": "3b339abb",
   "metadata": {
    "execution": {
     "iopub.execute_input": "2022-11-11T08:41:26.024937Z",
     "iopub.status.busy": "2022-11-11T08:41:26.024070Z",
     "iopub.status.idle": "2022-11-11T08:41:26.035407Z",
     "shell.execute_reply": "2022-11-11T08:41:26.034516Z"
    },
    "papermill": {
     "duration": 0.025893,
     "end_time": "2022-11-11T08:41:26.037435",
     "exception": false,
     "start_time": "2022-11-11T08:41:26.011542",
     "status": "completed"
    },
    "tags": []
   },
   "outputs": [],
   "source": [
    "data = data.merge(base, on='Patient', how='left')\n",
    "data['base_week'] = data['Weeks'] - data['min_week']\n",
    "del base"
   ]
  },
  {
   "cell_type": "code",
   "execution_count": 25,
   "id": "8a33032e",
   "metadata": {
    "execution": {
     "iopub.execute_input": "2022-11-11T08:41:26.062929Z",
     "iopub.status.busy": "2022-11-11T08:41:26.062179Z",
     "iopub.status.idle": "2022-11-11T08:41:26.071779Z",
     "shell.execute_reply": "2022-11-11T08:41:26.070911Z"
    },
    "papermill": {
     "duration": 0.024318,
     "end_time": "2022-11-11T08:41:26.073830",
     "exception": false,
     "start_time": "2022-11-11T08:41:26.049512",
     "status": "completed"
    },
    "tags": []
   },
   "outputs": [],
   "source": [
    "COLS = ['Sex','SmokingStatus'] #,'Age'\n",
    "FE = []\n",
    "for col in COLS:\n",
    "    for mod in data[col].unique():\n",
    "        FE.append(mod)\n",
    "        data[mod] = (data[col] == mod).astype(int)"
   ]
  },
  {
   "cell_type": "code",
   "execution_count": 26,
   "id": "9988294d",
   "metadata": {
    "execution": {
     "iopub.execute_input": "2022-11-11T08:41:26.099830Z",
     "iopub.status.busy": "2022-11-11T08:41:26.099092Z",
     "iopub.status.idle": "2022-11-11T08:41:26.110345Z",
     "shell.execute_reply": "2022-11-11T08:41:26.109450Z"
    },
    "papermill": {
     "duration": 0.026246,
     "end_time": "2022-11-11T08:41:26.112396",
     "exception": false,
     "start_time": "2022-11-11T08:41:26.086150",
     "status": "completed"
    },
    "tags": []
   },
   "outputs": [],
   "source": [
    "#\n",
    "data['age'] = (data['Age'] - data['Age'].min() ) / ( data['Age'].max() - data['Age'].min() )\n",
    "data['BASE'] = (data['min_FVC'] - data['min_FVC'].min() ) / ( data['min_FVC'].max() - data['min_FVC'].min() )\n",
    "data['week'] = (data['base_week'] - data['base_week'].min() ) / ( data['base_week'].max() - data['base_week'].min() )\n",
    "data['percent'] = (data['Percent'] - data['Percent'].min() ) / ( data['Percent'].max() - data['Percent'].min() )\n",
    "FE += ['age','percent','week','BASE']"
   ]
  },
  {
   "cell_type": "code",
   "execution_count": 27,
   "id": "a8a71b69",
   "metadata": {
    "execution": {
     "iopub.execute_input": "2022-11-11T08:41:26.137411Z",
     "iopub.status.busy": "2022-11-11T08:41:26.137127Z",
     "iopub.status.idle": "2022-11-11T08:41:26.145503Z",
     "shell.execute_reply": "2022-11-11T08:41:26.144641Z"
    },
    "papermill": {
     "duration": 0.023273,
     "end_time": "2022-11-11T08:41:26.147554",
     "exception": false,
     "start_time": "2022-11-11T08:41:26.124281",
     "status": "completed"
    },
    "tags": []
   },
   "outputs": [],
   "source": [
    "tr = data.loc[data.WHERE=='train']\n",
    "chunk = data.loc[data.WHERE=='val']\n",
    "sub = data.loc[data.WHERE=='test']\n",
    "del data"
   ]
  },
  {
   "cell_type": "code",
   "execution_count": 28,
   "id": "e53936ff",
   "metadata": {
    "execution": {
     "iopub.execute_input": "2022-11-11T08:41:26.173079Z",
     "iopub.status.busy": "2022-11-11T08:41:26.172341Z",
     "iopub.status.idle": "2022-11-11T08:41:26.178919Z",
     "shell.execute_reply": "2022-11-11T08:41:26.177962Z"
    },
    "papermill": {
     "duration": 0.021205,
     "end_time": "2022-11-11T08:41:26.180830",
     "exception": false,
     "start_time": "2022-11-11T08:41:26.159625",
     "status": "completed"
    },
    "tags": []
   },
   "outputs": [
    {
     "data": {
      "text/plain": [
       "((1535, 22), (5, 22), (730, 22))"
      ]
     },
     "execution_count": 28,
     "metadata": {},
     "output_type": "execute_result"
    }
   ],
   "source": [
    "tr.shape, chunk.shape, sub.shape"
   ]
  },
  {
   "cell_type": "code",
   "execution_count": null,
   "id": "bb93c857",
   "metadata": {
    "papermill": {
     "duration": 0.013099,
     "end_time": "2022-11-11T08:41:26.207208",
     "exception": false,
     "start_time": "2022-11-11T08:41:26.194109",
     "status": "completed"
    },
    "tags": []
   },
   "outputs": [],
   "source": []
  },
  {
   "cell_type": "code",
   "execution_count": 29,
   "id": "31f41f53",
   "metadata": {
    "execution": {
     "iopub.execute_input": "2022-11-11T08:41:26.236002Z",
     "iopub.status.busy": "2022-11-11T08:41:26.235115Z",
     "iopub.status.idle": "2022-11-11T08:41:26.250226Z",
     "shell.execute_reply": "2022-11-11T08:41:26.249265Z"
    },
    "papermill": {
     "duration": 0.031212,
     "end_time": "2022-11-11T08:41:26.252264",
     "exception": false,
     "start_time": "2022-11-11T08:41:26.221052",
     "status": "completed"
    },
    "tags": []
   },
   "outputs": [],
   "source": [
    "C1, C2 = tf.constant(70, dtype='float32'), tf.constant(1000, dtype=\"float32\")\n",
    "\n",
    "def score(y_true, y_pred):\n",
    "    tf.dtypes.cast(y_true, tf.float32)\n",
    "    tf.dtypes.cast(y_pred, tf.float32)\n",
    "    sigma = y_pred[:, 2] - y_pred[:, 0]\n",
    "    fvc_pred = y_pred[:, 1]\n",
    "    \n",
    "    #sigma_clip = sigma + C1\n",
    "    sigma_clip = tf.maximum(sigma, C1)\n",
    "    delta = tf.abs(y_true[:, 0] - fvc_pred)\n",
    "    delta = tf.minimum(delta, C2)\n",
    "    sq2 = tf.sqrt( tf.dtypes.cast(2, dtype=tf.float32) )\n",
    "    metric = (delta / sigma_clip)*sq2 + tf.math.log(sigma_clip* sq2)\n",
    "    return K.mean(metric)\n",
    "\n",
    "def qloss(y_true, y_pred):\n",
    "    # Pinball loss for multiple quantiles\n",
    "    qs = [0.2, 0.50, 0.8]\n",
    "    q = tf.constant(np.array([qs]), dtype=tf.float32)\n",
    "    e = y_true - y_pred\n",
    "    v = tf.maximum(q*e, (q-1)*e)\n",
    "    return K.mean(v)\n",
    "\n",
    "def mloss(_lambda):\n",
    "    def loss(y_true, y_pred):\n",
    "        return _lambda * qloss(y_true, y_pred) + (1 - _lambda)*score(y_true, y_pred)\n",
    "    return loss\n",
    "\n",
    "def make_model(nh):\n",
    "    z = L.Input((nh,), name=\"Patient\")\n",
    "    x = L.Dense(100, activation=\"relu\", name=\"d1\")(z)\n",
    "    x = L.Dense(100, activation=\"relu\", name=\"d2\")(x)\n",
    "    p1 = L.Dense(3, activation=\"linear\", name=\"p1\")(x)\n",
    "    p2 = L.Dense(3, activation=\"relu\", name=\"p2\")(x)\n",
    "    preds = L.Lambda(lambda x: x[0] + tf.cumsum(x[1], axis=1), \n",
    "                     name=\"preds\")([p1, p2])\n",
    "    \n",
    "    model = M.Model(z, preds, name=\"CNN\")\n",
    "    model.compile(loss=mloss(0.65), optimizer=tf.keras.optimizers.Adam(lr=0.1, beta_1=0.9, beta_2=0.999, epsilon=None, decay=0.01, amsgrad=False), metrics=[score])\n",
    "    return model"
   ]
  },
  {
   "cell_type": "code",
   "execution_count": 30,
   "id": "84273be8",
   "metadata": {
    "execution": {
     "iopub.execute_input": "2022-11-11T08:41:26.279096Z",
     "iopub.status.busy": "2022-11-11T08:41:26.278346Z",
     "iopub.status.idle": "2022-11-11T08:41:26.285807Z",
     "shell.execute_reply": "2022-11-11T08:41:26.284852Z"
    },
    "papermill": {
     "duration": 0.02304,
     "end_time": "2022-11-11T08:41:26.287936",
     "exception": false,
     "start_time": "2022-11-11T08:41:26.264896",
     "status": "completed"
    },
    "tags": []
   },
   "outputs": [],
   "source": [
    "y = tr['FVC'].values\n",
    "z = tr[FE].values\n",
    "ze = sub[FE].values\n",
    "nh = z.shape[1]\n",
    "pe = np.zeros((ze.shape[0], 3))\n",
    "pred = np.zeros((z.shape[0], 3))"
   ]
  },
  {
   "cell_type": "code",
   "execution_count": 31,
   "id": "297c4330",
   "metadata": {
    "execution": {
     "iopub.execute_input": "2022-11-11T08:41:26.313593Z",
     "iopub.status.busy": "2022-11-11T08:41:26.312855Z",
     "iopub.status.idle": "2022-11-11T08:41:26.362915Z",
     "shell.execute_reply": "2022-11-11T08:41:26.361935Z"
    },
    "papermill": {
     "duration": 0.066723,
     "end_time": "2022-11-11T08:41:26.366523",
     "exception": false,
     "start_time": "2022-11-11T08:41:26.299800",
     "status": "completed"
    },
    "tags": []
   },
   "outputs": [
    {
     "name": "stdout",
     "output_type": "stream",
     "text": [
      "Model: \"CNN\"\n",
      "__________________________________________________________________________________________________\n",
      "Layer (type)                    Output Shape         Param #     Connected to                     \n",
      "==================================================================================================\n",
      "Patient (InputLayer)            [(None, 9)]          0                                            \n",
      "__________________________________________________________________________________________________\n",
      "d1 (Dense)                      (None, 100)          1000        Patient[0][0]                    \n",
      "__________________________________________________________________________________________________\n",
      "d2 (Dense)                      (None, 100)          10100       d1[0][0]                         \n",
      "__________________________________________________________________________________________________\n",
      "p1 (Dense)                      (None, 3)            303         d2[0][0]                         \n",
      "__________________________________________________________________________________________________\n",
      "p2 (Dense)                      (None, 3)            303         d2[0][0]                         \n",
      "__________________________________________________________________________________________________\n",
      "preds (Lambda)                  (None, 3)            0           p1[0][0]                         \n",
      "                                                                 p2[0][0]                         \n",
      "==================================================================================================\n",
      "Total params: 11,706\n",
      "Trainable params: 11,706\n",
      "Non-trainable params: 0\n",
      "__________________________________________________________________________________________________\n",
      "None\n",
      "11706\n"
     ]
    },
    {
     "name": "stderr",
     "output_type": "stream",
     "text": [
      "/opt/conda/lib/python3.7/site-packages/keras/optimizer_v2/optimizer_v2.py:356: UserWarning: The `lr` argument is deprecated, use `learning_rate` instead.\n",
      "  \"The `lr` argument is deprecated, use `learning_rate` instead.\")\n"
     ]
    }
   ],
   "source": [
    "net = make_model(nh)\n",
    "print(net.summary())\n",
    "print(net.count_params())"
   ]
  },
  {
   "cell_type": "code",
   "execution_count": null,
   "id": "351d5f85",
   "metadata": {
    "papermill": {
     "duration": 0.012208,
     "end_time": "2022-11-11T08:41:26.391070",
     "exception": false,
     "start_time": "2022-11-11T08:41:26.378862",
     "status": "completed"
    },
    "tags": []
   },
   "outputs": [],
   "source": []
  },
  {
   "cell_type": "code",
   "execution_count": 32,
   "id": "c55a2934",
   "metadata": {
    "execution": {
     "iopub.execute_input": "2022-11-11T08:41:26.417345Z",
     "iopub.status.busy": "2022-11-11T08:41:26.415806Z",
     "iopub.status.idle": "2022-11-11T08:41:26.420813Z",
     "shell.execute_reply": "2022-11-11T08:41:26.419948Z"
    },
    "papermill": {
     "duration": 0.019788,
     "end_time": "2022-11-11T08:41:26.422761",
     "exception": false,
     "start_time": "2022-11-11T08:41:26.402973",
     "status": "completed"
    },
    "tags": []
   },
   "outputs": [],
   "source": [
    "NFOLD = 5 # originally 5\n",
    "kf = KFold(n_splits=NFOLD)"
   ]
  },
  {
   "cell_type": "code",
   "execution_count": 33,
   "id": "7642c3e6",
   "metadata": {
    "execution": {
     "iopub.execute_input": "2022-11-11T08:41:26.448189Z",
     "iopub.status.busy": "2022-11-11T08:41:26.447446Z",
     "iopub.status.idle": "2022-11-11T08:44:40.284740Z",
     "shell.execute_reply": "2022-11-11T08:44:40.283660Z"
    },
    "papermill": {
     "duration": 193.865651,
     "end_time": "2022-11-11T08:44:40.300335",
     "exception": false,
     "start_time": "2022-11-11T08:41:26.434684",
     "status": "completed"
    },
    "tags": []
   },
   "outputs": [
    {
     "name": "stdout",
     "output_type": "stream",
     "text": [
      "FOLD 1\n",
      "train [34.26779556274414, 6.514138221740723]\n",
      "val [40.76469802856445, 6.814991474151611]\n",
      "predict val...\n",
      "predict test...\n",
      "FOLD 2\n",
      "train [32.595008850097656, 6.466442108154297]\n",
      "val [46.96733856201172, 6.9316253662109375]\n",
      "predict val...\n",
      "predict test...\n",
      "FOLD 3\n",
      "train [31.793935775756836, 6.43268346786499]\n",
      "val [48.39055633544922, 6.77856969833374]\n",
      "predict val...\n",
      "predict test...\n",
      "FOLD 4\n",
      "train [34.68364334106445, 6.537964820861816]\n",
      "val [35.401668548583984, 6.557815074920654]\n",
      "predict val...\n",
      "predict test...\n",
      "FOLD 5\n",
      "train [31.415910720825195, 6.433530330657959]\n",
      "val [40.46168518066406, 6.767471790313721]\n",
      "predict val...\n",
      "predict test...\n",
      "CPU times: user 3min 15s, sys: 19.7 s, total: 3min 35s\n",
      "Wall time: 3min 13s\n"
     ]
    }
   ],
   "source": [
    "%%time\n",
    "cnt = 0\n",
    "EPOCHS = 800\n",
    "for tr_idx, val_idx in kf.split(z):\n",
    "    cnt += 1\n",
    "    print(f\"FOLD {cnt}\")\n",
    "    net = make_model(nh)\n",
    "    net.fit(z[tr_idx].astype('float32'), y[tr_idx].astype('float32'), batch_size=BATCH_SIZE, epochs=EPOCHS, \n",
    "            validation_data=(z[val_idx].astype('float32'), y[val_idx].astype('float32')), verbose=0) #\n",
    "    print(\"train\", net.evaluate(z[tr_idx].astype('float32'), y[tr_idx].astype('float32'), verbose=0, batch_size=BATCH_SIZE))\n",
    "    print(\"val\", net.evaluate(z[val_idx].astype('float32'), y[val_idx].astype('float32'), verbose=0, batch_size=BATCH_SIZE))\n",
    "    print(\"predict val...\")\n",
    "    pred[val_idx] = net.predict(z[val_idx].astype('float32'), batch_size=BATCH_SIZE, verbose=0)\n",
    "    print(\"predict test...\")\n",
    "    pe += net.predict(ze, batch_size=BATCH_SIZE, verbose=0) / NFOLD"
   ]
  },
  {
   "cell_type": "code",
   "execution_count": 34,
   "id": "644257db",
   "metadata": {
    "execution": {
     "iopub.execute_input": "2022-11-11T08:44:40.327316Z",
     "iopub.status.busy": "2022-11-11T08:44:40.326986Z",
     "iopub.status.idle": "2022-11-11T08:44:40.332609Z",
     "shell.execute_reply": "2022-11-11T08:44:40.331653Z"
    },
    "papermill": {
     "duration": 0.024005,
     "end_time": "2022-11-11T08:44:40.337596",
     "exception": false,
     "start_time": "2022-11-11T08:44:40.313591",
     "status": "completed"
    },
    "tags": []
   },
   "outputs": [
    {
     "name": "stdout",
     "output_type": "stream",
     "text": [
      "147.24252866067792 230.75139287395663\n"
     ]
    }
   ],
   "source": [
    "sigma_opt = mean_absolute_error(y, pred[:, 1])\n",
    "unc = pred[:,2] - pred[:, 0]\n",
    "sigma_mean = np.mean(unc)\n",
    "print(sigma_opt, sigma_mean)"
   ]
  },
  {
   "cell_type": "code",
   "execution_count": 35,
   "id": "141cfac3",
   "metadata": {
    "execution": {
     "iopub.execute_input": "2022-11-11T08:44:40.365328Z",
     "iopub.status.busy": "2022-11-11T08:44:40.365053Z",
     "iopub.status.idle": "2022-11-11T08:44:40.612059Z",
     "shell.execute_reply": "2022-11-11T08:44:40.611211Z"
    },
    "papermill": {
     "duration": 0.262225,
     "end_time": "2022-11-11T08:44:40.614099",
     "exception": false,
     "start_time": "2022-11-11T08:44:40.351874",
     "status": "completed"
    },
    "tags": []
   },
   "outputs": [
    {
     "data": {
      "image/png": "[encoded data removed]",
      "text/plain": [
       "<Figure size 432x288 with 1 Axes>"
      ]
     },
     "metadata": {
      "needs_background": "light"
     },
     "output_type": "display_data"
    }
   ],
   "source": [
    "idxs = np.random.randint(0, y.shape[0], 100)\n",
    "plt.plot(y[idxs], label=\"ground truth\")\n",
    "plt.plot(pred[idxs, 0], label=\"q25\")\n",
    "plt.plot(pred[idxs, 1], label=\"q50\")\n",
    "plt.plot(pred[idxs, 2], label=\"q75\")\n",
    "plt.legend(loc=\"best\")\n",
    "plt.show()"
   ]
  },
  {
   "cell_type": "code",
   "execution_count": 36,
   "id": "573a99c3",
   "metadata": {
    "execution": {
     "iopub.execute_input": "2022-11-11T08:44:40.643055Z",
     "iopub.status.busy": "2022-11-11T08:44:40.642207Z",
     "iopub.status.idle": "2022-11-11T08:44:40.649437Z",
     "shell.execute_reply": "2022-11-11T08:44:40.648525Z"
    },
    "papermill": {
     "duration": 0.023823,
     "end_time": "2022-11-11T08:44:40.651455",
     "exception": false,
     "start_time": "2022-11-11T08:44:40.627632",
     "status": "completed"
    },
    "tags": []
   },
   "outputs": [
    {
     "name": "stdout",
     "output_type": "stream",
     "text": [
      "12.52490234375 230.75139287395663 385.99169921875 1.0\n"
     ]
    }
   ],
   "source": [
    "print(unc.min(), unc.mean(), unc.max(), (unc>=0).mean())"
   ]
  },
  {
   "cell_type": "code",
   "execution_count": 37,
   "id": "f95f4bdf",
   "metadata": {
    "execution": {
     "iopub.execute_input": "2022-11-11T08:44:40.679529Z",
     "iopub.status.busy": "2022-11-11T08:44:40.679181Z",
     "iopub.status.idle": "2022-11-11T08:44:40.885841Z",
     "shell.execute_reply": "2022-11-11T08:44:40.884877Z"
    },
    "papermill": {
     "duration": 0.223284,
     "end_time": "2022-11-11T08:44:40.887956",
     "exception": false,
     "start_time": "2022-11-11T08:44:40.664672",
     "status": "completed"
    },
    "tags": []
   },
   "outputs": [
    {
     "data": {
      "image/png": "[encoded data removed]",
      "text/plain": [
       "<Figure size 432x288 with 1 Axes>"
      ]
     },
     "metadata": {
      "needs_background": "light"
     },
     "output_type": "display_data"
    }
   ],
   "source": [
    "plt.hist(unc)\n",
    "plt.title(\"uncertainty in prediction\")\n",
    "plt.show()"
   ]
  },
  {
   "cell_type": "code",
   "execution_count": 38,
   "id": "7c229471",
   "metadata": {
    "execution": {
     "iopub.execute_input": "2022-11-11T08:44:40.916279Z",
     "iopub.status.busy": "2022-11-11T08:44:40.915970Z",
     "iopub.status.idle": "2022-11-11T08:44:40.942841Z",
     "shell.execute_reply": "2022-11-11T08:44:40.942015Z"
    },
    "papermill": {
     "duration": 0.043357,
     "end_time": "2022-11-11T08:44:40.945072",
     "exception": false,
     "start_time": "2022-11-11T08:44:40.901715",
     "status": "completed"
    },
    "tags": []
   },
   "outputs": [
    {
     "data": {
      "text/html": [
       "<div>\n",
       "<style scoped>\n",
       "    .dataframe tbody tr th:only-of-type {\n",
       "        vertical-align: middle;\n",
       "    }\n",
       "\n",
       "    .dataframe tbody tr th {\n",
       "        vertical-align: top;\n",
       "    }\n",
       "\n",
       "    .dataframe thead th {\n",
       "        text-align: right;\n",
       "    }\n",
       "</style>\n",
       "<table border=\"1\" class=\"dataframe\">\n",
       "  <thead>\n",
       "    <tr style=\"text-align: right;\">\n",
       "      <th></th>\n",
       "      <th>Patient</th>\n",
       "      <th>Weeks</th>\n",
       "      <th>FVC</th>\n",
       "      <th>Percent</th>\n",
       "      <th>Age</th>\n",
       "      <th>Sex</th>\n",
       "      <th>SmokingStatus</th>\n",
       "      <th>WHERE</th>\n",
       "      <th>Confidence</th>\n",
       "      <th>Patient_Week</th>\n",
       "      <th>...</th>\n",
       "      <th>base_week</th>\n",
       "      <th>Male</th>\n",
       "      <th>Female</th>\n",
       "      <th>Ex-smoker</th>\n",
       "      <th>Never smoked</th>\n",
       "      <th>Currently smokes</th>\n",
       "      <th>age</th>\n",
       "      <th>BASE</th>\n",
       "      <th>week</th>\n",
       "      <th>percent</th>\n",
       "    </tr>\n",
       "  </thead>\n",
       "  <tbody>\n",
       "    <tr>\n",
       "      <th>1540</th>\n",
       "      <td>ID00419637202311204720264</td>\n",
       "      <td>-12</td>\n",
       "      <td>3020</td>\n",
       "      <td>70.186855</td>\n",
       "      <td>73</td>\n",
       "      <td>Male</td>\n",
       "      <td>Ex-smoker</td>\n",
       "      <td>test</td>\n",
       "      <td>100.0</td>\n",
       "      <td>ID00419637202311204720264_-12</td>\n",
       "      <td>...</td>\n",
       "      <td>-18.0</td>\n",
       "      <td>1</td>\n",
       "      <td>0</td>\n",
       "      <td>1</td>\n",
       "      <td>0</td>\n",
       "      <td>0</td>\n",
       "      <td>0.615385</td>\n",
       "      <td>0.3724</td>\n",
       "      <td>0.067901</td>\n",
       "      <td>0.332421</td>\n",
       "    </tr>\n",
       "    <tr>\n",
       "      <th>1541</th>\n",
       "      <td>ID00419637202311204720264</td>\n",
       "      <td>-11</td>\n",
       "      <td>3020</td>\n",
       "      <td>70.186855</td>\n",
       "      <td>73</td>\n",
       "      <td>Male</td>\n",
       "      <td>Ex-smoker</td>\n",
       "      <td>test</td>\n",
       "      <td>100.0</td>\n",
       "      <td>ID00419637202311204720264_-11</td>\n",
       "      <td>...</td>\n",
       "      <td>-17.0</td>\n",
       "      <td>1</td>\n",
       "      <td>0</td>\n",
       "      <td>1</td>\n",
       "      <td>0</td>\n",
       "      <td>0</td>\n",
       "      <td>0.615385</td>\n",
       "      <td>0.3724</td>\n",
       "      <td>0.074074</td>\n",
       "      <td>0.332421</td>\n",
       "    </tr>\n",
       "    <tr>\n",
       "      <th>1542</th>\n",
       "      <td>ID00419637202311204720264</td>\n",
       "      <td>-10</td>\n",
       "      <td>3020</td>\n",
       "      <td>70.186855</td>\n",
       "      <td>73</td>\n",
       "      <td>Male</td>\n",
       "      <td>Ex-smoker</td>\n",
       "      <td>test</td>\n",
       "      <td>100.0</td>\n",
       "      <td>ID00419637202311204720264_-10</td>\n",
       "      <td>...</td>\n",
       "      <td>-16.0</td>\n",
       "      <td>1</td>\n",
       "      <td>0</td>\n",
       "      <td>1</td>\n",
       "      <td>0</td>\n",
       "      <td>0</td>\n",
       "      <td>0.615385</td>\n",
       "      <td>0.3724</td>\n",
       "      <td>0.080247</td>\n",
       "      <td>0.332421</td>\n",
       "    </tr>\n",
       "    <tr>\n",
       "      <th>1543</th>\n",
       "      <td>ID00419637202311204720264</td>\n",
       "      <td>-9</td>\n",
       "      <td>3020</td>\n",
       "      <td>70.186855</td>\n",
       "      <td>73</td>\n",
       "      <td>Male</td>\n",
       "      <td>Ex-smoker</td>\n",
       "      <td>test</td>\n",
       "      <td>100.0</td>\n",
       "      <td>ID00419637202311204720264_-9</td>\n",
       "      <td>...</td>\n",
       "      <td>-15.0</td>\n",
       "      <td>1</td>\n",
       "      <td>0</td>\n",
       "      <td>1</td>\n",
       "      <td>0</td>\n",
       "      <td>0</td>\n",
       "      <td>0.615385</td>\n",
       "      <td>0.3724</td>\n",
       "      <td>0.086420</td>\n",
       "      <td>0.332421</td>\n",
       "    </tr>\n",
       "    <tr>\n",
       "      <th>1544</th>\n",
       "      <td>ID00419637202311204720264</td>\n",
       "      <td>-8</td>\n",
       "      <td>3020</td>\n",
       "      <td>70.186855</td>\n",
       "      <td>73</td>\n",
       "      <td>Male</td>\n",
       "      <td>Ex-smoker</td>\n",
       "      <td>test</td>\n",
       "      <td>100.0</td>\n",
       "      <td>ID00419637202311204720264_-8</td>\n",
       "      <td>...</td>\n",
       "      <td>-14.0</td>\n",
       "      <td>1</td>\n",
       "      <td>0</td>\n",
       "      <td>1</td>\n",
       "      <td>0</td>\n",
       "      <td>0</td>\n",
       "      <td>0.615385</td>\n",
       "      <td>0.3724</td>\n",
       "      <td>0.092593</td>\n",
       "      <td>0.332421</td>\n",
       "    </tr>\n",
       "  </tbody>\n",
       "</table>\n",
       "<p>5 rows × 22 columns</p>\n",
       "</div>"
      ],
      "text/plain": [
       "                        Patient  Weeks   FVC    Percent  Age   Sex  \\\n",
       "1540  ID00419637202311204720264    -12  3020  70.186855   73  Male   \n",
       "1541  ID00419637202311204720264    -11  3020  70.186855   73  Male   \n",
       "1542  ID00419637202311204720264    -10  3020  70.186855   73  Male   \n",
       "1543  ID00419637202311204720264     -9  3020  70.186855   73  Male   \n",
       "1544  ID00419637202311204720264     -8  3020  70.186855   73  Male   \n",
       "\n",
       "     SmokingStatus WHERE  Confidence                   Patient_Week  ...  \\\n",
       "1540     Ex-smoker  test       100.0  ID00419637202311204720264_-12  ...   \n",
       "1541     Ex-smoker  test       100.0  ID00419637202311204720264_-11  ...   \n",
       "1542     Ex-smoker  test       100.0  ID00419637202311204720264_-10  ...   \n",
       "1543     Ex-smoker  test       100.0   ID00419637202311204720264_-9  ...   \n",
       "1544     Ex-smoker  test       100.0   ID00419637202311204720264_-8  ...   \n",
       "\n",
       "      base_week  Male  Female  Ex-smoker  Never smoked  Currently smokes  \\\n",
       "1540      -18.0     1       0          1             0                 0   \n",
       "1541      -17.0     1       0          1             0                 0   \n",
       "1542      -16.0     1       0          1             0                 0   \n",
       "1543      -15.0     1       0          1             0                 0   \n",
       "1544      -14.0     1       0          1             0                 0   \n",
       "\n",
       "           age    BASE      week   percent  \n",
       "1540  0.615385  0.3724  0.067901  0.332421  \n",
       "1541  0.615385  0.3724  0.074074  0.332421  \n",
       "1542  0.615385  0.3724  0.080247  0.332421  \n",
       "1543  0.615385  0.3724  0.086420  0.332421  \n",
       "1544  0.615385  0.3724  0.092593  0.332421  \n",
       "\n",
       "[5 rows x 22 columns]"
      ]
     },
     "execution_count": 38,
     "metadata": {},
     "output_type": "execute_result"
    }
   ],
   "source": [
    "sub.head()"
   ]
  },
  {
   "cell_type": "code",
   "execution_count": 39,
   "id": "9f2bbfc5",
   "metadata": {
    "execution": {
     "iopub.execute_input": "2022-11-11T08:44:40.974879Z",
     "iopub.status.busy": "2022-11-11T08:44:40.974609Z",
     "iopub.status.idle": "2022-11-11T08:44:40.991627Z",
     "shell.execute_reply": "2022-11-11T08:44:40.990549Z"
    },
    "papermill": {
     "duration": 0.034167,
     "end_time": "2022-11-11T08:44:40.993961",
     "exception": false,
     "start_time": "2022-11-11T08:44:40.959794",
     "status": "completed"
    },
    "tags": []
   },
   "outputs": [
    {
     "data": {
      "text/html": [
       "<div>\n",
       "<style scoped>\n",
       "    .dataframe tbody tr th:only-of-type {\n",
       "        vertical-align: middle;\n",
       "    }\n",
       "\n",
       "    .dataframe tbody tr th {\n",
       "        vertical-align: top;\n",
       "    }\n",
       "\n",
       "    .dataframe thead th {\n",
       "        text-align: right;\n",
       "    }\n",
       "</style>\n",
       "<table border=\"1\" class=\"dataframe\">\n",
       "  <thead>\n",
       "    <tr style=\"text-align: right;\">\n",
       "      <th></th>\n",
       "      <th>Patient_Week</th>\n",
       "      <th>FVC</th>\n",
       "      <th>Confidence</th>\n",
       "      <th>FVC1</th>\n",
       "      <th>Confidence1</th>\n",
       "    </tr>\n",
       "  </thead>\n",
       "  <tbody>\n",
       "    <tr>\n",
       "      <th>1540</th>\n",
       "      <td>ID00419637202311204720264_-12</td>\n",
       "      <td>3020</td>\n",
       "      <td>100.0</td>\n",
       "      <td>2868.775513</td>\n",
       "      <td>234.999573</td>\n",
       "    </tr>\n",
       "    <tr>\n",
       "      <th>1541</th>\n",
       "      <td>ID00419637202311204720264_-11</td>\n",
       "      <td>3020</td>\n",
       "      <td>100.0</td>\n",
       "      <td>2866.293579</td>\n",
       "      <td>236.211365</td>\n",
       "    </tr>\n",
       "    <tr>\n",
       "      <th>1542</th>\n",
       "      <td>ID00419637202311204720264_-10</td>\n",
       "      <td>3020</td>\n",
       "      <td>100.0</td>\n",
       "      <td>2863.811707</td>\n",
       "      <td>237.423279</td>\n",
       "    </tr>\n",
       "    <tr>\n",
       "      <th>1543</th>\n",
       "      <td>ID00419637202311204720264_-9</td>\n",
       "      <td>3020</td>\n",
       "      <td>100.0</td>\n",
       "      <td>2861.329712</td>\n",
       "      <td>238.635071</td>\n",
       "    </tr>\n",
       "    <tr>\n",
       "      <th>1544</th>\n",
       "      <td>ID00419637202311204720264_-8</td>\n",
       "      <td>3020</td>\n",
       "      <td>100.0</td>\n",
       "      <td>2858.847839</td>\n",
       "      <td>239.847046</td>\n",
       "    </tr>\n",
       "    <tr>\n",
       "      <th>1545</th>\n",
       "      <td>ID00419637202311204720264_-7</td>\n",
       "      <td>3020</td>\n",
       "      <td>100.0</td>\n",
       "      <td>2856.365723</td>\n",
       "      <td>241.058899</td>\n",
       "    </tr>\n",
       "    <tr>\n",
       "      <th>1546</th>\n",
       "      <td>ID00419637202311204720264_-6</td>\n",
       "      <td>3020</td>\n",
       "      <td>100.0</td>\n",
       "      <td>2853.883789</td>\n",
       "      <td>242.270569</td>\n",
       "    </tr>\n",
       "    <tr>\n",
       "      <th>1547</th>\n",
       "      <td>ID00419637202311204720264_-5</td>\n",
       "      <td>3020</td>\n",
       "      <td>100.0</td>\n",
       "      <td>2851.401917</td>\n",
       "      <td>243.482483</td>\n",
       "    </tr>\n",
       "    <tr>\n",
       "      <th>1548</th>\n",
       "      <td>ID00419637202311204720264_-4</td>\n",
       "      <td>3020</td>\n",
       "      <td>100.0</td>\n",
       "      <td>2848.919983</td>\n",
       "      <td>244.694214</td>\n",
       "    </tr>\n",
       "    <tr>\n",
       "      <th>1549</th>\n",
       "      <td>ID00419637202311204720264_-3</td>\n",
       "      <td>3020</td>\n",
       "      <td>100.0</td>\n",
       "      <td>2846.438049</td>\n",
       "      <td>245.906128</td>\n",
       "    </tr>\n",
       "  </tbody>\n",
       "</table>\n",
       "</div>"
      ],
      "text/plain": [
       "                       Patient_Week   FVC  Confidence         FVC1  \\\n",
       "1540  ID00419637202311204720264_-12  3020       100.0  2868.775513   \n",
       "1541  ID00419637202311204720264_-11  3020       100.0  2866.293579   \n",
       "1542  ID00419637202311204720264_-10  3020       100.0  2863.811707   \n",
       "1543   ID00419637202311204720264_-9  3020       100.0  2861.329712   \n",
       "1544   ID00419637202311204720264_-8  3020       100.0  2858.847839   \n",
       "1545   ID00419637202311204720264_-7  3020       100.0  2856.365723   \n",
       "1546   ID00419637202311204720264_-6  3020       100.0  2853.883789   \n",
       "1547   ID00419637202311204720264_-5  3020       100.0  2851.401917   \n",
       "1548   ID00419637202311204720264_-4  3020       100.0  2848.919983   \n",
       "1549   ID00419637202311204720264_-3  3020       100.0  2846.438049   \n",
       "\n",
       "      Confidence1  \n",
       "1540   234.999573  \n",
       "1541   236.211365  \n",
       "1542   237.423279  \n",
       "1543   238.635071  \n",
       "1544   239.847046  \n",
       "1545   241.058899  \n",
       "1546   242.270569  \n",
       "1547   243.482483  \n",
       "1548   244.694214  \n",
       "1549   245.906128  "
      ]
     },
     "execution_count": 39,
     "metadata": {},
     "output_type": "execute_result"
    }
   ],
   "source": [
    "# PREDICTION\n",
    "sub['FVC1'] = 1.*pe[:, 1]\n",
    "sub['Confidence1'] = pe[:, 2] - pe[:, 0]\n",
    "subm = sub[['Patient_Week','FVC','Confidence','FVC1','Confidence1']].copy()\n",
    "subm.loc[~subm.FVC1.isnull()].head(10)"
   ]
  },
  {
   "cell_type": "code",
   "execution_count": 40,
   "id": "1eab6b10",
   "metadata": {
    "execution": {
     "iopub.execute_input": "2022-11-11T08:44:41.023534Z",
     "iopub.status.busy": "2022-11-11T08:44:41.023271Z",
     "iopub.status.idle": "2022-11-11T08:44:41.031902Z",
     "shell.execute_reply": "2022-11-11T08:44:41.031025Z"
    },
    "papermill": {
     "duration": 0.026158,
     "end_time": "2022-11-11T08:44:41.034050",
     "exception": false,
     "start_time": "2022-11-11T08:44:41.007892",
     "status": "completed"
    },
    "tags": []
   },
   "outputs": [],
   "source": [
    "subm.loc[~subm.FVC1.isnull(),'FVC'] = subm.loc[~subm.FVC1.isnull(),'FVC1']\n",
    "if sigma_mean<70:\n",
    "    subm['Confidence'] = sigma_opt\n",
    "else:\n",
    "    subm.loc[~subm.FVC1.isnull(),'Confidence'] = subm.loc[~subm.FVC1.isnull(),'Confidence1']"
   ]
  },
  {
   "cell_type": "code",
   "execution_count": 41,
   "id": "0634c8ba",
   "metadata": {
    "execution": {
     "iopub.execute_input": "2022-11-11T08:44:41.063119Z",
     "iopub.status.busy": "2022-11-11T08:44:41.062849Z",
     "iopub.status.idle": "2022-11-11T08:44:41.075035Z",
     "shell.execute_reply": "2022-11-11T08:44:41.073952Z"
    },
    "papermill": {
     "duration": 0.029183,
     "end_time": "2022-11-11T08:44:41.077326",
     "exception": false,
     "start_time": "2022-11-11T08:44:41.048143",
     "status": "completed"
    },
    "tags": []
   },
   "outputs": [
    {
     "data": {
      "text/html": [
       "<div>\n",
       "<style scoped>\n",
       "    .dataframe tbody tr th:only-of-type {\n",
       "        vertical-align: middle;\n",
       "    }\n",
       "\n",
       "    .dataframe tbody tr th {\n",
       "        vertical-align: top;\n",
       "    }\n",
       "\n",
       "    .dataframe thead th {\n",
       "        text-align: right;\n",
       "    }\n",
       "</style>\n",
       "<table border=\"1\" class=\"dataframe\">\n",
       "  <thead>\n",
       "    <tr style=\"text-align: right;\">\n",
       "      <th></th>\n",
       "      <th>Patient_Week</th>\n",
       "      <th>FVC</th>\n",
       "      <th>Confidence</th>\n",
       "      <th>FVC1</th>\n",
       "      <th>Confidence1</th>\n",
       "    </tr>\n",
       "  </thead>\n",
       "  <tbody>\n",
       "    <tr>\n",
       "      <th>1540</th>\n",
       "      <td>ID00419637202311204720264_-12</td>\n",
       "      <td>2868.775513</td>\n",
       "      <td>234.999573</td>\n",
       "      <td>2868.775513</td>\n",
       "      <td>234.999573</td>\n",
       "    </tr>\n",
       "    <tr>\n",
       "      <th>1541</th>\n",
       "      <td>ID00419637202311204720264_-11</td>\n",
       "      <td>2866.293579</td>\n",
       "      <td>236.211365</td>\n",
       "      <td>2866.293579</td>\n",
       "      <td>236.211365</td>\n",
       "    </tr>\n",
       "    <tr>\n",
       "      <th>1542</th>\n",
       "      <td>ID00419637202311204720264_-10</td>\n",
       "      <td>2863.811707</td>\n",
       "      <td>237.423279</td>\n",
       "      <td>2863.811707</td>\n",
       "      <td>237.423279</td>\n",
       "    </tr>\n",
       "    <tr>\n",
       "      <th>1543</th>\n",
       "      <td>ID00419637202311204720264_-9</td>\n",
       "      <td>2861.329712</td>\n",
       "      <td>238.635071</td>\n",
       "      <td>2861.329712</td>\n",
       "      <td>238.635071</td>\n",
       "    </tr>\n",
       "    <tr>\n",
       "      <th>1544</th>\n",
       "      <td>ID00419637202311204720264_-8</td>\n",
       "      <td>2858.847839</td>\n",
       "      <td>239.847046</td>\n",
       "      <td>2858.847839</td>\n",
       "      <td>239.847046</td>\n",
       "    </tr>\n",
       "  </tbody>\n",
       "</table>\n",
       "</div>"
      ],
      "text/plain": [
       "                       Patient_Week          FVC  Confidence         FVC1  \\\n",
       "1540  ID00419637202311204720264_-12  2868.775513  234.999573  2868.775513   \n",
       "1541  ID00419637202311204720264_-11  2866.293579  236.211365  2866.293579   \n",
       "1542  ID00419637202311204720264_-10  2863.811707  237.423279  2863.811707   \n",
       "1543   ID00419637202311204720264_-9  2861.329712  238.635071  2861.329712   \n",
       "1544   ID00419637202311204720264_-8  2858.847839  239.847046  2858.847839   \n",
       "\n",
       "      Confidence1  \n",
       "1540   234.999573  \n",
       "1541   236.211365  \n",
       "1542   237.423279  \n",
       "1543   238.635071  \n",
       "1544   239.847046  "
      ]
     },
     "execution_count": 41,
     "metadata": {},
     "output_type": "execute_result"
    }
   ],
   "source": [
    "subm.head()"
   ]
  },
  {
   "cell_type": "code",
   "execution_count": 42,
   "id": "8f5e1e60",
   "metadata": {
    "execution": {
     "iopub.execute_input": "2022-11-11T08:44:41.108727Z",
     "iopub.status.busy": "2022-11-11T08:44:41.108466Z",
     "iopub.status.idle": "2022-11-11T08:44:41.131656Z",
     "shell.execute_reply": "2022-11-11T08:44:41.130479Z"
    },
    "papermill": {
     "duration": 0.041171,
     "end_time": "2022-11-11T08:44:41.134026",
     "exception": false,
     "start_time": "2022-11-11T08:44:41.092855",
     "status": "completed"
    },
    "tags": []
   },
   "outputs": [
    {
     "data": {
      "text/html": [
       "<div>\n",
       "<style scoped>\n",
       "    .dataframe tbody tr th:only-of-type {\n",
       "        vertical-align: middle;\n",
       "    }\n",
       "\n",
       "    .dataframe tbody tr th {\n",
       "        vertical-align: top;\n",
       "    }\n",
       "\n",
       "    .dataframe thead th {\n",
       "        text-align: right;\n",
       "    }\n",
       "</style>\n",
       "<table border=\"1\" class=\"dataframe\">\n",
       "  <thead>\n",
       "    <tr style=\"text-align: right;\">\n",
       "      <th></th>\n",
       "      <th>count</th>\n",
       "      <th>mean</th>\n",
       "      <th>std</th>\n",
       "      <th>min</th>\n",
       "      <th>25%</th>\n",
       "      <th>50%</th>\n",
       "      <th>75%</th>\n",
       "      <th>max</th>\n",
       "    </tr>\n",
       "  </thead>\n",
       "  <tbody>\n",
       "    <tr>\n",
       "      <th>FVC</th>\n",
       "      <td>730.0</td>\n",
       "      <td>2641.861427</td>\n",
       "      <td>329.939038</td>\n",
       "      <td>1956.018799</td>\n",
       "      <td>2585.861572</td>\n",
       "      <td>2687.482056</td>\n",
       "      <td>2821.280609</td>\n",
       "      <td>3209.246704</td>\n",
       "    </tr>\n",
       "    <tr>\n",
       "      <th>Confidence</th>\n",
       "      <td>730.0</td>\n",
       "      <td>286.293684</td>\n",
       "      <td>47.590243</td>\n",
       "      <td>182.285889</td>\n",
       "      <td>249.621857</td>\n",
       "      <td>286.459030</td>\n",
       "      <td>324.970207</td>\n",
       "      <td>377.739014</td>\n",
       "    </tr>\n",
       "    <tr>\n",
       "      <th>FVC1</th>\n",
       "      <td>730.0</td>\n",
       "      <td>2641.861427</td>\n",
       "      <td>329.939038</td>\n",
       "      <td>1956.018799</td>\n",
       "      <td>2585.861572</td>\n",
       "      <td>2687.482056</td>\n",
       "      <td>2821.280609</td>\n",
       "      <td>3209.246704</td>\n",
       "    </tr>\n",
       "    <tr>\n",
       "      <th>Confidence1</th>\n",
       "      <td>730.0</td>\n",
       "      <td>286.293684</td>\n",
       "      <td>47.590243</td>\n",
       "      <td>182.285889</td>\n",
       "      <td>249.621857</td>\n",
       "      <td>286.459030</td>\n",
       "      <td>324.970207</td>\n",
       "      <td>377.739014</td>\n",
       "    </tr>\n",
       "  </tbody>\n",
       "</table>\n",
       "</div>"
      ],
      "text/plain": [
       "             count         mean         std          min          25%  \\\n",
       "FVC          730.0  2641.861427  329.939038  1956.018799  2585.861572   \n",
       "Confidence   730.0   286.293684   47.590243   182.285889   249.621857   \n",
       "FVC1         730.0  2641.861427  329.939038  1956.018799  2585.861572   \n",
       "Confidence1  730.0   286.293684   47.590243   182.285889   249.621857   \n",
       "\n",
       "                     50%          75%          max  \n",
       "FVC          2687.482056  2821.280609  3209.246704  \n",
       "Confidence    286.459030   324.970207   377.739014  \n",
       "FVC1         2687.482056  2821.280609  3209.246704  \n",
       "Confidence1   286.459030   324.970207   377.739014  "
      ]
     },
     "execution_count": 42,
     "metadata": {},
     "output_type": "execute_result"
    }
   ],
   "source": [
    "subm.describe().T"
   ]
  },
  {
   "cell_type": "code",
   "execution_count": 43,
   "id": "fab7d03c",
   "metadata": {
    "execution": {
     "iopub.execute_input": "2022-11-11T08:44:41.164040Z",
     "iopub.status.busy": "2022-11-11T08:44:41.163752Z",
     "iopub.status.idle": "2022-11-11T08:44:41.178022Z",
     "shell.execute_reply": "2022-11-11T08:44:41.177140Z"
    },
    "papermill": {
     "duration": 0.03113,
     "end_time": "2022-11-11T08:44:41.179945",
     "exception": false,
     "start_time": "2022-11-11T08:44:41.148815",
     "status": "completed"
    },
    "tags": []
   },
   "outputs": [],
   "source": [
    "otest = pd.read_csv('../input/osic-pulmonary-fibrosis-progression/test.csv')\n",
    "for i in range(len(otest)):\n",
    "    subm.loc[subm['Patient_Week']==otest.Patient[i]+'_'+str(otest.Weeks[i]), 'FVC'] = otest.FVC[i]\n",
    "    subm.loc[subm['Patient_Week']==otest.Patient[i]+'_'+str(otest.Weeks[i]), 'Confidence'] = 0.1"
   ]
  },
  {
   "cell_type": "code",
   "execution_count": 44,
   "id": "a077ce83",
   "metadata": {
    "execution": {
     "iopub.execute_input": "2022-11-11T08:44:41.210558Z",
     "iopub.status.busy": "2022-11-11T08:44:41.209945Z",
     "iopub.status.idle": "2022-11-11T08:44:41.219604Z",
     "shell.execute_reply": "2022-11-11T08:44:41.218718Z"
    },
    "papermill": {
     "duration": 0.0273,
     "end_time": "2022-11-11T08:44:41.221875",
     "exception": false,
     "start_time": "2022-11-11T08:44:41.194575",
     "status": "completed"
    },
    "tags": []
   },
   "outputs": [],
   "source": [
    "subm[[\"Patient_Week\",\"FVC\",\"Confidence\"]].to_csv(\"submission_regression.csv\", index=False)"
   ]
  },
  {
   "cell_type": "code",
   "execution_count": 45,
   "id": "d5fa4fe9",
   "metadata": {
    "execution": {
     "iopub.execute_input": "2022-11-11T08:44:41.252344Z",
     "iopub.status.busy": "2022-11-11T08:44:41.252086Z",
     "iopub.status.idle": "2022-11-11T08:44:41.258114Z",
     "shell.execute_reply": "2022-11-11T08:44:41.257219Z"
    },
    "papermill": {
     "duration": 0.023237,
     "end_time": "2022-11-11T08:44:41.259990",
     "exception": false,
     "start_time": "2022-11-11T08:44:41.236753",
     "status": "completed"
    },
    "tags": []
   },
   "outputs": [],
   "source": [
    "reg_sub = subm[[\"Patient_Week\",\"FVC\",\"Confidence\"]].copy()"
   ]
  },
  {
   "cell_type": "code",
   "execution_count": null,
   "id": "7c4c1167",
   "metadata": {
    "papermill": {
     "duration": 0.013865,
     "end_time": "2022-11-11T08:44:41.287830",
     "exception": false,
     "start_time": "2022-11-11T08:44:41.273965",
     "status": "completed"
    },
    "tags": []
   },
   "outputs": [],
   "source": []
  },
  {
   "cell_type": "code",
   "execution_count": 46,
   "id": "58520bb1",
   "metadata": {
    "execution": {
     "iopub.execute_input": "2022-11-11T08:44:41.317142Z",
     "iopub.status.busy": "2022-11-11T08:44:41.316847Z",
     "iopub.status.idle": "2022-11-11T08:44:41.323764Z",
     "shell.execute_reply": "2022-11-11T08:44:41.322948Z"
    },
    "papermill": {
     "duration": 0.023919,
     "end_time": "2022-11-11T08:44:41.325701",
     "exception": false,
     "start_time": "2022-11-11T08:44:41.301782",
     "status": "completed"
    },
    "tags": []
   },
   "outputs": [],
   "source": [
    "df1 = img_sub.sort_values(by=['Patient_Week'], ascending=True).reset_index(drop=True)\n",
    "df2 = reg_sub.sort_values(by=['Patient_Week'], ascending=True).reset_index(drop=True)"
   ]
  },
  {
   "cell_type": "code",
   "execution_count": 47,
   "id": "97b3ca14",
   "metadata": {
    "execution": {
     "iopub.execute_input": "2022-11-11T08:44:41.358308Z",
     "iopub.status.busy": "2022-11-11T08:44:41.357994Z",
     "iopub.status.idle": "2022-11-11T08:44:41.374741Z",
     "shell.execute_reply": "2022-11-11T08:44:41.373715Z"
    },
    "papermill": {
     "duration": 0.035083,
     "end_time": "2022-11-11T08:44:41.376967",
     "exception": false,
     "start_time": "2022-11-11T08:44:41.341884",
     "status": "completed"
    },
    "tags": []
   },
   "outputs": [
    {
     "data": {
      "text/html": [
       "<div>\n",
       "<style scoped>\n",
       "    .dataframe tbody tr th:only-of-type {\n",
       "        vertical-align: middle;\n",
       "    }\n",
       "\n",
       "    .dataframe tbody tr th {\n",
       "        vertical-align: top;\n",
       "    }\n",
       "\n",
       "    .dataframe thead th {\n",
       "        text-align: right;\n",
       "    }\n",
       "</style>\n",
       "<table border=\"1\" class=\"dataframe\">\n",
       "  <thead>\n",
       "    <tr style=\"text-align: right;\">\n",
       "      <th></th>\n",
       "      <th>Patient_Week</th>\n",
       "      <th>FVC</th>\n",
       "      <th>Confidence</th>\n",
       "    </tr>\n",
       "  </thead>\n",
       "  <tbody>\n",
       "    <tr>\n",
       "      <th>0</th>\n",
       "      <td>ID00419637202311204720264_-1</td>\n",
       "      <td>2893.189609</td>\n",
       "      <td>209.379718</td>\n",
       "    </tr>\n",
       "    <tr>\n",
       "      <th>1</th>\n",
       "      <td>ID00419637202311204720264_-10</td>\n",
       "      <td>2919.050613</td>\n",
       "      <td>210.781315</td>\n",
       "    </tr>\n",
       "    <tr>\n",
       "      <th>2</th>\n",
       "      <td>ID00419637202311204720264_-11</td>\n",
       "      <td>2921.924007</td>\n",
       "      <td>210.936967</td>\n",
       "    </tr>\n",
       "    <tr>\n",
       "      <th>3</th>\n",
       "      <td>ID00419637202311204720264_-12</td>\n",
       "      <td>2924.797446</td>\n",
       "      <td>211.092710</td>\n",
       "    </tr>\n",
       "    <tr>\n",
       "      <th>4</th>\n",
       "      <td>ID00419637202311204720264_-2</td>\n",
       "      <td>2896.063049</td>\n",
       "      <td>209.535641</td>\n",
       "    </tr>\n",
       "  </tbody>\n",
       "</table>\n",
       "</div>"
      ],
      "text/plain": [
       "                    Patient_Week          FVC  Confidence\n",
       "0   ID00419637202311204720264_-1  2893.189609  209.379718\n",
       "1  ID00419637202311204720264_-10  2919.050613  210.781315\n",
       "2  ID00419637202311204720264_-11  2921.924007  210.936967\n",
       "3  ID00419637202311204720264_-12  2924.797446  211.092710\n",
       "4   ID00419637202311204720264_-2  2896.063049  209.535641"
      ]
     },
     "execution_count": 47,
     "metadata": {},
     "output_type": "execute_result"
    }
   ],
   "source": [
    "df = df1[['Patient_Week']].copy()\n",
    "df['FVC'] = 0.25*df1['FVC'] + 0.75*df2['FVC']\n",
    "df['Confidence'] = 0.26*df1['Confidence'] + 0.74*df2['Confidence']\n",
    "df.head()"
   ]
  },
  {
   "cell_type": "code",
   "execution_count": 48,
   "id": "94bd39cf",
   "metadata": {
    "execution": {
     "iopub.execute_input": "2022-11-11T08:44:41.410155Z",
     "iopub.status.busy": "2022-11-11T08:44:41.409503Z",
     "iopub.status.idle": "2022-11-11T08:44:41.418740Z",
     "shell.execute_reply": "2022-11-11T08:44:41.417704Z"
    },
    "papermill": {
     "duration": 0.02802,
     "end_time": "2022-11-11T08:44:41.421121",
     "exception": false,
     "start_time": "2022-11-11T08:44:41.393101",
     "status": "completed"
    },
    "tags": []
   },
   "outputs": [],
   "source": [
    "df.to_csv('submission.csv', index=False)"
   ]
  },
  {
   "cell_type": "code",
   "execution_count": null,
   "id": "24e27b7a",
   "metadata": {
    "papermill": {
     "duration": 0.015218,
     "end_time": "2022-11-11T08:44:41.452759",
     "exception": false,
     "start_time": "2022-11-11T08:44:41.437541",
     "status": "completed"
    },
    "tags": []
   },
   "outputs": [],
   "source": []
  },
  {
   "cell_type": "code",
   "execution_count": null,
   "id": "7a01e29b",
   "metadata": {
    "papermill": {
     "duration": 0.015166,
     "end_time": "2022-11-11T08:44:41.483932",
     "exception": false,
     "start_time": "2022-11-11T08:44:41.468766",
     "status": "completed"
    },
    "tags": []
   },
   "outputs": [],
   "source": []
  }
 ],
 "metadata": {
  "kernelspec": {
   "display_name": "Python 3",
   "language": "python",
   "name": "python3"
  },
  "language_info": {
   "codemirror_mode": {
    "name": "ipython",
    "version": 3
   },
   "file_extension": ".py",
   "mimetype": "text/x-python",
   "name": "python",
   "nbconvert_exporter": "python",
   "pygments_lexer": "ipython3",
   "version": "3.7.12"
  },
  "papermill": {
   "default_parameters": {},
   "duration": 1942.357894,
   "end_time": "2022-11-11T08:44:44.646968",
   "environment_variables": {},
   "exception": null,
   "input_path": "__notebook__.ipynb",
   "output_path": "__notebook__.ipynb",
   "parameters": {},
   "start_time": "2022-11-11T08:12:22.289074",
   "version": "2.3.4"
  },
  "widgets": {
   "application/vnd.jupyter.widget-state+json": {
    "state": {
     "00cbf78557e34b9b90e13fa65ae4ae36": {
      "model_module": "@jupyter-widgets/controls",
      "model_module_version": "1.5.0",
      "model_name": "DescriptionStyleModel",
      "state": {
       "_model_module": "@jupyter-widgets/controls",
       "_model_module_version": "1.5.0",
       "_model_name": "DescriptionStyleModel",
       "_view_count": null,
       "_view_module": "@jupyter-widgets/base",
       "_view_module_version": "1.2.0",
       "_view_name": "StyleView",
       "description_width": ""
      }
     },
     "096afeccd50844ebb99f3212109a2d69": {
      "model_module": "@jupyter-widgets/controls",
      "model_module_version": "1.5.0",
      "model_name": "HTMLModel",
      "state": {
       "_dom_classes": [],
       "_model_module": "@jupyter-widgets/controls",
       "_model_module_version": "1.5.0",
       "_model_name": "HTMLModel",
       "_view_count": null,
       "_view_module": "@jupyter-widgets/controls",
       "_view_module_version": "1.5.0",
       "_view_name": "HTMLView",
       "description": "",
       "description_tooltip": null,
       "layout": "IPY_MODEL_be707a7ae47f452d8a89adb3773a2ac6",
       "placeholder": "​",
       "style": "IPY_MODEL_a712acbf99dd4de8a23563bf08ba1a5d",
       "value": ""
      }
     },
     "191e1afaeb754f2bac24000b0afb281a": {
      "model_module": "@jupyter-widgets/base",
      "model_module_version": "1.2.0",
      "model_name": "LayoutModel",
      "state": {
       "_model_module": "@jupyter-widgets/base",
       "_model_module_version": "1.2.0",
       "_model_name": "LayoutModel",
       "_view_count": null,
       "_view_module": "@jupyter-widgets/base",
       "_view_module_version": "1.2.0",
       "_view_name": "LayoutView",
       "align_content": null,
       "align_items": null,
       "align_self": null,
       "border": null,
       "bottom": null,
       "display": null,
       "flex": null,
       "flex_flow": null,
       "grid_area": null,
       "grid_auto_columns": null,
       "grid_auto_flow": null,
       "grid_auto_rows": null,
       "grid_column": null,
       "grid_gap": null,
       "grid_row": null,
       "grid_template_areas": null,
       "grid_template_columns": null,
       "grid_template_rows": null,
       "height": null,
       "justify_content": null,
       "justify_items": null,
       "left": null,
       "margin": null,
       "max_height": null,
       "max_width": null,
       "min_height": null,
       "min_width": null,
       "object_fit": null,
       "object_position": null,
       "order": null,
       "overflow": null,
       "overflow_x": null,
       "overflow_y": null,
       "padding": null,
       "right": null,
       "top": null,
       "visibility": null,
       "width": null
      }
     },
     "261425861431432591faf65de3ede0b9": {
      "model_module": "@jupyter-widgets/controls",
      "model_module_version": "1.5.0",
      "model_name": "FloatProgressModel",
      "state": {
       "_dom_classes": [],
       "_model_module": "@jupyter-widgets/controls",
       "_model_module_version": "1.5.0",
       "_model_name": "FloatProgressModel",
       "_view_count": null,
       "_view_module": "@jupyter-widgets/controls",
       "_view_module_version": "1.5.0",
       "_view_name": "ProgressView",
       "bar_style": "success",
       "description": "",
       "description_tooltip": null,
       "layout": "IPY_MODEL_38a79af6e00f42d0b64ad89c53a4bca3",
       "max": 1.0,
       "min": 0.0,
       "orientation": "horizontal",
       "style": "IPY_MODEL_f6589667adfa4182829f9807f3c755c3",
       "value": 1.0
      }
     },
     "38a79af6e00f42d0b64ad89c53a4bca3": {
      "model_module": "@jupyter-widgets/base",
      "model_module_version": "1.2.0",
      "model_name": "LayoutModel",
      "state": {
       "_model_module": "@jupyter-widgets/base",
       "_model_module_version": "1.2.0",
       "_model_name": "LayoutModel",
       "_view_count": null,
       "_view_module": "@jupyter-widgets/base",
       "_view_module_version": "1.2.0",
       "_view_name": "LayoutView",
       "align_content": null,
       "align_items": null,
       "align_self": null,
       "border": null,
       "bottom": null,
       "display": null,
       "flex": null,
       "flex_flow": null,
       "grid_area": null,
       "grid_auto_columns": null,
       "grid_auto_flow": null,
       "grid_auto_rows": null,
       "grid_column": null,
       "grid_gap": null,
       "grid_row": null,
       "grid_template_areas": null,
       "grid_template_columns": null,
       "grid_template_rows": null,
       "height": null,
       "justify_content": null,
       "justify_items": null,
       "left": null,
       "margin": null,
       "max_height": null,
       "max_width": null,
       "min_height": null,
       "min_width": null,
       "object_fit": null,
       "object_position": null,
       "order": null,
       "overflow": null,
       "overflow_x": null,
       "overflow_y": null,
       "padding": null,
       "right": null,
       "top": null,
       "visibility": null,
       "width": "20px"
      }
     },
     "5a77f301d59448b28398cb6356e9bc8a": {
      "model_module": "@jupyter-widgets/base",
      "model_module_version": "1.2.0",
      "model_name": "LayoutModel",
      "state": {
       "_model_module": "@jupyter-widgets/base",
       "_model_module_version": "1.2.0",
       "_model_name": "LayoutModel",
       "_view_count": null,
       "_view_module": "@jupyter-widgets/base",
       "_view_module_version": "1.2.0",
       "_view_name": "LayoutView",
       "align_content": null,
       "align_items": null,
       "align_self": null,
       "border": null,
       "bottom": null,
       "display": null,
       "flex": null,
       "flex_flow": null,
       "grid_area": null,
       "grid_auto_columns": null,
       "grid_auto_flow": null,
       "grid_auto_rows": null,
       "grid_column": null,
       "grid_gap": null,
       "grid_row": null,
       "grid_template_areas": null,
       "grid_template_columns": null,
       "grid_template_rows": null,
       "height": null,
       "justify_content": null,
       "justify_items": null,
       "left": null,
       "margin": null,
       "max_height": null,
       "max_width": null,
       "min_height": null,
       "min_width": null,
       "object_fit": null,
       "object_position": null,
       "order": null,
       "overflow": null,
       "overflow_x": null,
       "overflow_y": null,
       "padding": null,
       "right": null,
       "top": null,
       "visibility": null,
       "width": null
      }
     },
     "661b6892f7ab408d8b4d741a9251e26c": {
      "model_module": "@jupyter-widgets/controls",
      "model_module_version": "1.5.0",
      "model_name": "DescriptionStyleModel",
      "state": {
       "_model_module": "@jupyter-widgets/controls",
       "_model_module_version": "1.5.0",
       "_model_name": "DescriptionStyleModel",
       "_view_count": null,
       "_view_module": "@jupyter-widgets/base",
       "_view_module_version": "1.2.0",
       "_view_name": "StyleView",
       "description_width": ""
      }
     },
     "67a29dacba054d56b7540cee6cb1f6bc": {
      "model_module": "@jupyter-widgets/base",
      "model_module_version": "1.2.0",
      "model_name": "LayoutModel",
      "state": {
       "_model_module": "@jupyter-widgets/base",
       "_model_module_version": "1.2.0",
       "_model_name": "LayoutModel",
       "_view_count": null,
       "_view_module": "@jupyter-widgets/base",
       "_view_module_version": "1.2.0",
       "_view_name": "LayoutView",
       "align_content": null,
       "align_items": null,
       "align_self": null,
       "border": null,
       "bottom": null,
       "display": null,
       "flex": null,
       "flex_flow": null,
       "grid_area": null,
       "grid_auto_columns": null,
       "grid_auto_flow": null,
       "grid_auto_rows": null,
       "grid_column": null,
       "grid_gap": null,
       "grid_row": null,
       "grid_template_areas": null,
       "grid_template_columns": null,
       "grid_template_rows": null,
       "height": null,
       "justify_content": null,
       "justify_items": null,
       "left": null,
       "margin": null,
       "max_height": null,
       "max_width": null,
       "min_height": null,
       "min_width": null,
       "object_fit": null,
       "object_position": null,
       "order": null,
       "overflow": null,
       "overflow_x": null,
       "overflow_y": null,
       "padding": null,
       "right": null,
       "top": null,
       "visibility": null,
       "width": null
      }
     },
     "80759940fd1d4968a9dee0087bf4ea70": {
      "model_module": "@jupyter-widgets/controls",
      "model_module_version": "1.5.0",
      "model_name": "ProgressStyleModel",
      "state": {
       "_model_module": "@jupyter-widgets/controls",
       "_model_module_version": "1.5.0",
       "_model_name": "ProgressStyleModel",
       "_view_count": null,
       "_view_module": "@jupyter-widgets/base",
       "_view_module_version": "1.2.0",
       "_view_name": "StyleView",
       "bar_color": null,
       "description_width": ""
      }
     },
     "8f923c06e5b64b97adf2849de85f614a": {
      "model_module": "@jupyter-widgets/controls",
      "model_module_version": "1.5.0",
      "model_name": "HTMLModel",
      "state": {
       "_dom_classes": [],
       "_model_module": "@jupyter-widgets/controls",
       "_model_module_version": "1.5.0",
       "_model_name": "HTMLModel",
       "_view_count": null,
       "_view_module": "@jupyter-widgets/controls",
       "_view_module_version": "1.5.0",
       "_view_name": "HTMLView",
       "description": "",
       "description_tooltip": null,
       "layout": "IPY_MODEL_5a77f301d59448b28398cb6356e9bc8a",
       "placeholder": "​",
       "style": "IPY_MODEL_661b6892f7ab408d8b4d741a9251e26c",
       "value": " 176/? [00:00&lt;00:00, 717.53it/s]"
      }
     },
     "8fd73ab65e0a47019cc9c8fa76fb78fa": {
      "model_module": "@jupyter-widgets/controls",
      "model_module_version": "1.5.0",
      "model_name": "FloatProgressModel",
      "state": {
       "_dom_classes": [],
       "_model_module": "@jupyter-widgets/controls",
       "_model_module_version": "1.5.0",
       "_model_name": "FloatProgressModel",
       "_view_count": null,
       "_view_module": "@jupyter-widgets/controls",
       "_view_module_version": "1.5.0",
       "_view_name": "ProgressView",
       "bar_style": "success",
       "description": "",
       "description_tooltip": null,
       "layout": "IPY_MODEL_a1c0c4c5e17a454f90102249a6fc90f6",
       "max": 9.0,
       "min": 0.0,
       "orientation": "horizontal",
       "style": "IPY_MODEL_80759940fd1d4968a9dee0087bf4ea70",
       "value": 9.0
      }
     },
     "a1c0c4c5e17a454f90102249a6fc90f6": {
      "model_module": "@jupyter-widgets/base",
      "model_module_version": "1.2.0",
      "model_name": "LayoutModel",
      "state": {
       "_model_module": "@jupyter-widgets/base",
       "_model_module_version": "1.2.0",
       "_model_name": "LayoutModel",
       "_view_count": null,
       "_view_module": "@jupyter-widgets/base",
       "_view_module_version": "1.2.0",
       "_view_name": "LayoutView",
       "align_content": null,
       "align_items": null,
       "align_self": null,
       "border": null,
       "bottom": null,
       "display": null,
       "flex": null,
       "flex_flow": null,
       "grid_area": null,
       "grid_auto_columns": null,
       "grid_auto_flow": null,
       "grid_auto_rows": null,
       "grid_column": null,
       "grid_gap": null,
       "grid_row": null,
       "grid_template_areas": null,
       "grid_template_columns": null,
       "grid_template_rows": null,
       "height": null,
       "justify_content": null,
       "justify_items": null,
       "left": null,
       "margin": null,
       "max_height": null,
       "max_width": null,
       "min_height": null,
       "min_width": null,
       "object_fit": null,
       "object_position": null,
       "order": null,
       "overflow": null,
       "overflow_x": null,
       "overflow_y": null,
       "padding": null,
       "right": null,
       "top": null,
       "visibility": null,
       "width": null
      }
     },
     "a712acbf99dd4de8a23563bf08ba1a5d": {
      "model_module": "@jupyter-widgets/controls",
      "model_module_version": "1.5.0",
      "model_name": "DescriptionStyleModel",
      "state": {
       "_model_module": "@jupyter-widgets/controls",
       "_model_module_version": "1.5.0",
       "_model_name": "DescriptionStyleModel",
       "_view_count": null,
       "_view_module": "@jupyter-widgets/base",
       "_view_module_version": "1.2.0",
       "_view_name": "StyleView",
       "description_width": ""
      }
     },
     "bab1f5aee0de46faac3e97ca2c202866": {
      "model_module": "@jupyter-widgets/controls",
      "model_module_version": "1.5.0",
      "model_name": "HTMLModel",
      "state": {
       "_dom_classes": [],
       "_model_module": "@jupyter-widgets/controls",
       "_model_module_version": "1.5.0",
       "_model_name": "HTMLModel",
       "_view_count": null,
       "_view_module": "@jupyter-widgets/controls",
       "_view_module_version": "1.5.0",
       "_view_name": "HTMLView",
       "description": "",
       "description_tooltip": null,
       "layout": "IPY_MODEL_d73e31cc5a5740b68f216aecab6015b2",
       "placeholder": "​",
       "style": "IPY_MODEL_e23481cca0944efe8b8de1e37c64cec9",
       "value": " 9/9 [27:33&lt;00:00, 172.52s/it]"
      }
     },
     "be707a7ae47f452d8a89adb3773a2ac6": {
      "model_module": "@jupyter-widgets/base",
      "model_module_version": "1.2.0",
      "model_name": "LayoutModel",
      "state": {
       "_model_module": "@jupyter-widgets/base",
       "_model_module_version": "1.2.0",
       "_model_name": "LayoutModel",
       "_view_count": null,
       "_view_module": "@jupyter-widgets/base",
       "_view_module_version": "1.2.0",
       "_view_name": "LayoutView",
       "align_content": null,
       "align_items": null,
       "align_self": null,
       "border": null,
       "bottom": null,
       "display": null,
       "flex": null,
       "flex_flow": null,
       "grid_area": null,
       "grid_auto_columns": null,
       "grid_auto_flow": null,
       "grid_auto_rows": null,
       "grid_column": null,
       "grid_gap": null,
       "grid_row": null,
       "grid_template_areas": null,
       "grid_template_columns": null,
       "grid_template_rows": null,
       "height": null,
       "justify_content": null,
       "justify_items": null,
       "left": null,
       "margin": null,
       "max_height": null,
       "max_width": null,
       "min_height": null,
       "min_width": null,
       "object_fit": null,
       "object_position": null,
       "order": null,
       "overflow": null,
       "overflow_x": null,
       "overflow_y": null,
       "padding": null,
       "right": null,
       "top": null,
       "visibility": null,
       "width": null
      }
     },
     "d73e31cc5a5740b68f216aecab6015b2": {
      "model_module": "@jupyter-widgets/base",
      "model_module_version": "1.2.0",
      "model_name": "LayoutModel",
      "state": {
       "_model_module": "@jupyter-widgets/base",
       "_model_module_version": "1.2.0",
       "_model_name": "LayoutModel",
       "_view_count": null,
       "_view_module": "@jupyter-widgets/base",
       "_view_module_version": "1.2.0",
       "_view_name": "LayoutView",
       "align_content": null,
       "align_items": null,
       "align_self": null,
       "border": null,
       "bottom": null,
       "display": null,
       "flex": null,
       "flex_flow": null,
       "grid_area": null,
       "grid_auto_columns": null,
       "grid_auto_flow": null,
       "grid_auto_rows": null,
       "grid_column": null,
       "grid_gap": null,
       "grid_row": null,
       "grid_template_areas": null,
       "grid_template_columns": null,
       "grid_template_rows": null,
       "height": null,
       "justify_content": null,
       "justify_items": null,
       "left": null,
       "margin": null,
       "max_height": null,
       "max_width": null,
       "min_height": null,
       "min_width": null,
       "object_fit": null,
       "object_position": null,
       "order": null,
       "overflow": null,
       "overflow_x": null,
       "overflow_y": null,
       "padding": null,
       "right": null,
       "top": null,
       "visibility": null,
       "width": null
      }
     },
     "dfa92542ebf2411c8f5493ac14939d8c": {
      "model_module": "@jupyter-widgets/controls",
      "model_module_version": "1.5.0",
      "model_name": "HBoxModel",
      "state": {
       "_dom_classes": [],
       "_model_module": "@jupyter-widgets/controls",
       "_model_module_version": "1.5.0",
       "_model_name": "HBoxModel",
       "_view_count": null,
       "_view_module": "@jupyter-widgets/controls",
       "_view_module_version": "1.5.0",
       "_view_name": "HBoxView",
       "box_style": "",
       "children": [
        "IPY_MODEL_096afeccd50844ebb99f3212109a2d69",
        "IPY_MODEL_261425861431432591faf65de3ede0b9",
        "IPY_MODEL_8f923c06e5b64b97adf2849de85f614a"
       ],
       "layout": "IPY_MODEL_e7c73afbe29544428f9845abd191cc65"
      }
     },
     "e23481cca0944efe8b8de1e37c64cec9": {
      "model_module": "@jupyter-widgets/controls",
      "model_module_version": "1.5.0",
      "model_name": "DescriptionStyleModel",
      "state": {
       "_model_module": "@jupyter-widgets/controls",
       "_model_module_version": "1.5.0",
       "_model_name": "DescriptionStyleModel",
       "_view_count": null,
       "_view_module": "@jupyter-widgets/base",
       "_view_module_version": "1.2.0",
       "_view_name": "StyleView",
       "description_width": ""
      }
     },
     "e7c73afbe29544428f9845abd191cc65": {
      "model_module": "@jupyter-widgets/base",
      "model_module_version": "1.2.0",
      "model_name": "LayoutModel",
      "state": {
       "_model_module": "@jupyter-widgets/base",
       "_model_module_version": "1.2.0",
       "_model_name": "LayoutModel",
       "_view_count": null,
       "_view_module": "@jupyter-widgets/base",
       "_view_module_version": "1.2.0",
       "_view_name": "LayoutView",
       "align_content": null,
       "align_items": null,
       "align_self": null,
       "border": null,
       "bottom": null,
       "display": null,
       "flex": null,
       "flex_flow": null,
       "grid_area": null,
       "grid_auto_columns": null,
       "grid_auto_flow": null,
       "grid_auto_rows": null,
       "grid_column": null,
       "grid_gap": null,
       "grid_row": null,
       "grid_template_areas": null,
       "grid_template_columns": null,
       "grid_template_rows": null,
       "height": null,
       "justify_content": null,
       "justify_items": null,
       "left": null,
       "margin": null,
       "max_height": null,
       "max_width": null,
       "min_height": null,
       "min_width": null,
       "object_fit": null,
       "object_position": null,
       "order": null,
       "overflow": null,
       "overflow_x": null,
       "overflow_y": null,
       "padding": null,
       "right": null,
       "top": null,
       "visibility": null,
       "width": null
      }
     },
     "f41105583aa44ec794da5e5945b02b66": {
      "model_module": "@jupyter-widgets/controls",
      "model_module_version": "1.5.0",
      "model_name": "HTMLModel",
      "state": {
       "_dom_classes": [],
       "_model_module": "@jupyter-widgets/controls",
       "_model_module_version": "1.5.0",
       "_model_name": "HTMLModel",
       "_view_count": null,
       "_view_module": "@jupyter-widgets/controls",
       "_view_module_version": "1.5.0",
       "_view_name": "HTMLView",
       "description": "",
       "description_tooltip": null,
       "layout": "IPY_MODEL_67a29dacba054d56b7540cee6cb1f6bc",
       "placeholder": "​",
       "style": "IPY_MODEL_00cbf78557e34b9b90e13fa65ae4ae36",
       "value": "100%"
      }
     },
     "f6589667adfa4182829f9807f3c755c3": {
      "model_module": "@jupyter-widgets/controls",
      "model_module_version": "1.5.0",
      "model_name": "ProgressStyleModel",
      "state": {
       "_model_module": "@jupyter-widgets/controls",
       "_model_module_version": "1.5.0",
       "_model_name": "ProgressStyleModel",
       "_view_count": null,
       "_view_module": "@jupyter-widgets/base",
       "_view_module_version": "1.2.0",
       "_view_name": "StyleView",
       "bar_color": null,
       "description_width": ""
      }
     },
     "fb12e24b75764061ba82cf6dee051f65": {
      "model_module": "@jupyter-widgets/controls",
      "model_module_version": "1.5.0",
      "model_name": "HBoxModel",
      "state": {
       "_dom_classes": [],
       "_model_module": "@jupyter-widgets/controls",
       "_model_module_version": "1.5.0",
       "_model_name": "HBoxModel",
       "_view_count": null,
       "_view_module": "@jupyter-widgets/controls",
       "_view_module_version": "1.5.0",
       "_view_name": "HBoxView",
       "box_style": "",
       "children": [
        "IPY_MODEL_f41105583aa44ec794da5e5945b02b66",
        "IPY_MODEL_8fd73ab65e0a47019cc9c8fa76fb78fa",
        "IPY_MODEL_bab1f5aee0de46faac3e97ca2c202866"
       ],
       "layout": "IPY_MODEL_191e1afaeb754f2bac24000b0afb281a"
      }
     }
    },
    "version_major": 2,
    "version_minor": 0
   }
  }
 },
 "nbformat": 4,
 "nbformat_minor": 5
}
